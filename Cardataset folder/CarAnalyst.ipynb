{
 "cells": [
  {
   "cell_type": "code",
   "execution_count": 1,
   "id": "263a7248",
   "metadata": {},
   "outputs": [],
   "source": [
    "import pandas as pd"
   ]
  },
  {
   "cell_type": "code",
   "execution_count": 2,
   "id": "41281a37",
   "metadata": {},
   "outputs": [],
   "source": [
    "country = pd.read_csv('Cars_Country.csv')\n",
    "car = pd.read_csv('Cars_Data')\n",
    "Multi = pd.read_csv('Cars_Multi.csv')\n",
    "Price = pd.read_csv('Cars_Price.csv')"
   ]
  },
  {
   "cell_type": "code",
   "execution_count": 3,
   "id": "ce7c5cd6",
   "metadata": {},
   "outputs": [
    {
     "data": {
      "text/html": [
       "<div>\n",
       "<style scoped>\n",
       "    .dataframe tbody tr th:only-of-type {\n",
       "        vertical-align: middle;\n",
       "    }\n",
       "\n",
       "    .dataframe tbody tr th {\n",
       "        vertical-align: top;\n",
       "    }\n",
       "\n",
       "    .dataframe thead th {\n",
       "        text-align: right;\n",
       "    }\n",
       "</style>\n",
       "<table border=\"1\" class=\"dataframe\">\n",
       "  <thead>\n",
       "    <tr style=\"text-align: right;\">\n",
       "      <th></th>\n",
       "      <th>origin</th>\n",
       "      <th>country</th>\n",
       "    </tr>\n",
       "  </thead>\n",
       "  <tbody>\n",
       "    <tr>\n",
       "      <th>0</th>\n",
       "      <td>1</td>\n",
       "      <td>USA</td>\n",
       "    </tr>\n",
       "    <tr>\n",
       "      <th>1</th>\n",
       "      <td>2</td>\n",
       "      <td>Europe</td>\n",
       "    </tr>\n",
       "    <tr>\n",
       "      <th>2</th>\n",
       "      <td>3</td>\n",
       "      <td>Japan</td>\n",
       "    </tr>\n",
       "  </tbody>\n",
       "</table>\n",
       "</div>"
      ],
      "text/plain": [
       "   origin country\n",
       "0       1     USA\n",
       "1       2  Europe\n",
       "2       3   Japan"
      ]
     },
     "execution_count": 3,
     "metadata": {},
     "output_type": "execute_result"
    }
   ],
   "source": [
    "country"
   ]
  },
  {
   "cell_type": "code",
   "execution_count": 4,
   "id": "ea2902a0",
   "metadata": {},
   "outputs": [
    {
     "data": {
      "text/html": [
       "<div>\n",
       "<style scoped>\n",
       "    .dataframe tbody tr th:only-of-type {\n",
       "        vertical-align: middle;\n",
       "    }\n",
       "\n",
       "    .dataframe tbody tr th {\n",
       "        vertical-align: top;\n",
       "    }\n",
       "\n",
       "    .dataframe thead th {\n",
       "        text-align: right;\n",
       "    }\n",
       "</style>\n",
       "<table border=\"1\" class=\"dataframe\">\n",
       "  <thead>\n",
       "    <tr style=\"text-align: right;\">\n",
       "      <th></th>\n",
       "      <th>{\"query_text\":\"SELECT\\r\\n\\r\\ncar_name AS `Car`</th>\n",
       "      <th>\\r\\nCONCAT(\\\"19\\\"</th>\n",
       "      <th>model) AS `Model Year`</th>\n",
       "      <th>\\r\\ncountry AS `Country`</th>\n",
       "      <th>\\r\\nmpg AS `Mileage`</th>\n",
       "      <th>\\r\\ncylinders AS `No. of Cylinders`</th>\n",
       "      <th>\\r\\ndisplacement AS `Displacement`</th>\n",
       "      <th>\\r\\nhorsepower AS `HP`</th>\n",
       "      <th>\\r\\nweight AS `Weight`</th>\n",
       "      <th>\\r\\nacceleration AS `Acceleration`</th>\n",
       "      <th>...</th>\n",
       "      <th>value:\"82\"}</th>\n",
       "      <th>v_7:{\"type\":\"literal\".397</th>\n",
       "      <th>datatype:\"http://www.w3.org/2001/XMLSchema#integer\".1187</th>\n",
       "      <th>value:\"2720\"}.2</th>\n",
       "      <th>v_8:{\"type\":\"literal\".397</th>\n",
       "      <th>datatype:\"http://www.w3.org/2001/XMLSchema#decimal\".1590</th>\n",
       "      <th>value:\"19.4\"}.4</th>\n",
       "      <th>v_9:{\"type\":\"literal\".397</th>\n",
       "      <th>datatype:\"http://www.w3.org/2001/XMLSchema#decimal\".1591</th>\n",
       "      <th>value:\"9000.0\"}}]}}</th>\n",
       "    </tr>\n",
       "  </thead>\n",
       "  <tbody>\n",
       "  </tbody>\n",
       "</table>\n",
       "<p>0 rows × 10821 columns</p>\n",
       "</div>"
      ],
      "text/plain": [
       "Empty DataFrame\n",
       "Columns: [{\"query_text\":\"SELECT\\r\\n\\r\\ncar_name AS `Car`, \\r\\nCONCAT(\\\"19\\\", model) AS `Model Year`, \\r\\ncountry AS `Country`, \\r\\nmpg AS `Mileage`, \\r\\ncylinders AS `No. of Cylinders`, \\r\\ndisplacement AS `Displacement`, \\r\\nhorsepower AS `HP`, \\r\\nweight AS `Weight`, \\r\\nacceleration AS `Acceleration`, \\r\\nprice AS `Price`\\r\\n\\r\\nFROM\\r\\n(\\r\\n    SELECT x.*,  y.country\\r\\n    FROM\\r\\n    (\\r\\n        SELECT m.*,  p.price\\r\\n        FROM \\r\\n        Cars_Multi m INNER JOIN\\r\\n        Cars_Price p ON\\r\\n        m.id = p.id\\r\\n    ) x LEFT JOIN\\r\\n    Cars_Country y ON\\r\\n    x.origin = y.origin\\r\\n) AS `Consolidate Table`\", query_lang:\"SQL\", metadata:[{\"name\":\"Car\", table:\"Consolidate Table\", dataset:\"cars-data\", agent:\"dataman-udit\", description:\"Name of the car\", type:\"http://www.w3.org/2001/XMLSchema#string\", sparqlVariableName:\"?v_0\"}, {\"name\":\"Model Year\", description:\"CONCAT(\\\"19\\\",  model)\", type:\"http://www.w3.org/2001/XMLSchema#string\".1, sparqlVariableName:\"?v_1\"}, {\"name\":\"Country\", table:\"Consolidate Table\".1, dataset:\"cars-data\".1, agent:\"dataman-udit\".1, description:\"Country name\", type:\"http://www.w3.org/2001/XMLSchema#string\".2, sparqlVariableName:\"?v_2\"}, {\"name\":\"Mileage\", table:\"Consolidate Table\".2, dataset:\"cars-data\".2, agent:\"dataman-udit\".2, description:\"Mileage of the car in miles per gallon \", type:\"http://www.w3.org/2001/XMLSchema#decimal\", sparqlVariableName:\"?v_3\"}, {\"name\":\"No. of Cylinders\", table:\"Consolidate Table\".3, dataset:\"cars-data\".3, agent:\"dataman-udit\".3, description:\"No. of cylinders present in the car\", type:\"http://www.w3.org/2001/XMLSchema#integer\", sparqlVariableName:\"?v_4\"}, {\"name\":\"Displacement\", table:\"Consolidate Table\".4, dataset:\"cars-data\".4, agent:\"dataman-udit\".4, description:\"Engine displacement in cubic mm (Swept volume of pistons inside the cylinders. )\", type:\"http://www.w3.org/2001/XMLSchema#decimal\".1, sparqlVariableName:\"?v_5\"}, {\"name\":\"HP\", table:\"Consolidate Table\".5, dataset:\"cars-data\".5, agent:\"dataman-udit\".5, description:\"Horse-Power associated with the car\", type:\"http://www.w3.org/2001/XMLSchema#integer\".1, sparqlVariableName:\"?v_6\"}, {\"name\":\"Weight\", table:\"Consolidate Table\".6, dataset:\"cars-data\".6, agent:\"dataman-udit\".6, description:\"Weight of the car (in lbs)\", type:\"http://www.w3.org/2001/XMLSchema#integer\".2, sparqlVariableName:\"?v_7\"}, {\"name\":\"Acceleration\", table:\"Consolidate Table\".7, dataset:\"cars-data\".7, agent:\"dataman-udit\".7, description:\"Acceleration of the car in miles per squared hour\", type:\"http://www.w3.org/2001/XMLSchema#decimal\".2, sparqlVariableName:\"?v_8\"}, {\"name\":\"Price\", table:\"Consolidate Table\".8, dataset:\"cars-data\".8, agent:\"dataman-udit\".8, description:\"Price of the car in USD\", type:\"http://www.w3.org/2001/XMLSchema#decimal\".3, sparqlVariableName:\"?v_9\"}], datasetVersions:[\"dataman-udit/cars-data/6d7d49ea-edde-4825-838b-4e34b3bd31b7\"], head:{\"vars\":[\"v_0\", v_1, v_2, v_3, v_4, v_5, v_6, v_7, v_8, v_9]}, results:{\"bindings\":[{\"v_0\":{\"type\":\"literal\", value:\"chevrolet chevelle malibu\"}, v_1:{\"type\":\"literal\", value:\"1970\"}, v_2:{\"type\":\"literal\", value:\"USA\"}, v_3:{\"type\":\"literal\", ...]\n",
       "Index: []\n",
       "\n",
       "[0 rows x 10821 columns]"
      ]
     },
     "execution_count": 4,
     "metadata": {},
     "output_type": "execute_result"
    }
   ],
   "source": [
    "car"
   ]
  },
  {
   "cell_type": "code",
   "execution_count": 8,
   "id": "25051326",
   "metadata": {},
   "outputs": [],
   "source": [
    "car = pd.read_fwf('Cars_Data')"
   ]
  },
  {
   "cell_type": "code",
   "execution_count": 10,
   "id": "e108568e",
   "metadata": {},
   "outputs": [
    {
     "data": {
      "text/html": [
       "<div>\n",
       "<style scoped>\n",
       "    .dataframe tbody tr th:only-of-type {\n",
       "        vertical-align: middle;\n",
       "    }\n",
       "\n",
       "    .dataframe tbody tr th {\n",
       "        vertical-align: top;\n",
       "    }\n",
       "\n",
       "    .dataframe thead th {\n",
       "        text-align: right;\n",
       "    }\n",
       "</style>\n",
       "<table border=\"1\" class=\"dataframe\">\n",
       "  <thead>\n",
       "    <tr style=\"text-align: right;\">\n",
       "      <th></th>\n",
       "      <th>ID</th>\n",
       "      <th>price</th>\n",
       "    </tr>\n",
       "  </thead>\n",
       "  <tbody>\n",
       "    <tr>\n",
       "      <th>0</th>\n",
       "      <td>1</td>\n",
       "      <td>25561.59078</td>\n",
       "    </tr>\n",
       "    <tr>\n",
       "      <th>1</th>\n",
       "      <td>2</td>\n",
       "      <td>24221.42273</td>\n",
       "    </tr>\n",
       "    <tr>\n",
       "      <th>2</th>\n",
       "      <td>3</td>\n",
       "      <td>27240.84373</td>\n",
       "    </tr>\n",
       "    <tr>\n",
       "      <th>3</th>\n",
       "      <td>4</td>\n",
       "      <td>33684.96888</td>\n",
       "    </tr>\n",
       "    <tr>\n",
       "      <th>4</th>\n",
       "      <td>5</td>\n",
       "      <td>20000.00000</td>\n",
       "    </tr>\n",
       "    <tr>\n",
       "      <th>...</th>\n",
       "      <td>...</td>\n",
       "      <td>...</td>\n",
       "    </tr>\n",
       "    <tr>\n",
       "      <th>393</th>\n",
       "      <td>394</td>\n",
       "      <td>13432.50000</td>\n",
       "    </tr>\n",
       "    <tr>\n",
       "      <th>394</th>\n",
       "      <td>395</td>\n",
       "      <td>37000.00000</td>\n",
       "    </tr>\n",
       "    <tr>\n",
       "      <th>395</th>\n",
       "      <td>396</td>\n",
       "      <td>47800.00000</td>\n",
       "    </tr>\n",
       "    <tr>\n",
       "      <th>396</th>\n",
       "      <td>397</td>\n",
       "      <td>46000.00000</td>\n",
       "    </tr>\n",
       "    <tr>\n",
       "      <th>397</th>\n",
       "      <td>398</td>\n",
       "      <td>9000.00000</td>\n",
       "    </tr>\n",
       "  </tbody>\n",
       "</table>\n",
       "<p>398 rows × 2 columns</p>\n",
       "</div>"
      ],
      "text/plain": [
       "      ID        price\n",
       "0      1  25561.59078\n",
       "1      2  24221.42273\n",
       "2      3  27240.84373\n",
       "3      4  33684.96888\n",
       "4      5  20000.00000\n",
       "..   ...          ...\n",
       "393  394  13432.50000\n",
       "394  395  37000.00000\n",
       "395  396  47800.00000\n",
       "396  397  46000.00000\n",
       "397  398   9000.00000\n",
       "\n",
       "[398 rows x 2 columns]"
      ]
     },
     "execution_count": 10,
     "metadata": {},
     "output_type": "execute_result"
    }
   ],
   "source": [
    "Price"
   ]
  },
  {
   "cell_type": "code",
   "execution_count": null,
   "id": "e7f3af93",
   "metadata": {},
   "outputs": [],
   "source": []
  }
 ],
 "metadata": {
  "kernelspec": {
   "display_name": "Python 3 (ipykernel)",
   "language": "python",
   "name": "python3"
  },
  "language_info": {
   "codemirror_mode": {
    "name": "ipython",
    "version": 3
   },
   "file_extension": ".py",
   "mimetype": "text/x-python",
   "name": "python",
   "nbconvert_exporter": "python",
   "pygments_lexer": "ipython3",
   "version": "3.9.12"
  }
 },
 "nbformat": 4,
 "nbformat_minor": 5
}
