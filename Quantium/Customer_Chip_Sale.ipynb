{
 "cells": [
  {
   "cell_type": "markdown",
   "id": "42f8c8be",
   "metadata": {},
   "source": [
    "## Project, Van Quan DONG\n"
   ]
  },
  {
   "cell_type": "code",
   "execution_count": 1,
   "id": "a0503c9a",
   "metadata": {},
   "outputs": [],
   "source": [
    "import pandas as pd\n",
    "import numpy as np\n",
    "import matplotlib.pyplot as plt\n",
    "%matplotlib inline"
   ]
  },
  {
   "cell_type": "markdown",
   "id": "e223b3c6",
   "metadata": {},
   "source": [
    "# Import data "
   ]
  },
  {
   "cell_type": "code",
   "execution_count": 2,
   "id": "e77ea01d",
   "metadata": {},
   "outputs": [],
   "source": [
    "customer = pd.read_csv('QVI_purchase_behaviour1.csv')"
   ]
  },
  {
   "cell_type": "code",
   "execution_count": 3,
   "id": "bc37837e",
   "metadata": {},
   "outputs": [],
   "source": [
    "potato = pd.read_excel('QVI_transaction_data1.xlsx')"
   ]
  },
  {
   "cell_type": "code",
   "execution_count": 4,
   "id": "c068a2b3",
   "metadata": {
    "scrolled": true
   },
   "outputs": [
    {
     "data": {
      "text/html": [
       "<div>\n",
       "<style scoped>\n",
       "    .dataframe tbody tr th:only-of-type {\n",
       "        vertical-align: middle;\n",
       "    }\n",
       "\n",
       "    .dataframe tbody tr th {\n",
       "        vertical-align: top;\n",
       "    }\n",
       "\n",
       "    .dataframe thead th {\n",
       "        text-align: right;\n",
       "    }\n",
       "</style>\n",
       "<table border=\"1\" class=\"dataframe\">\n",
       "  <thead>\n",
       "    <tr style=\"text-align: right;\">\n",
       "      <th></th>\n",
       "      <th>LYLTY_CARD_NBR</th>\n",
       "      <th>LIFESTAGE</th>\n",
       "      <th>PREMIUM_CUSTOMER</th>\n",
       "    </tr>\n",
       "  </thead>\n",
       "  <tbody>\n",
       "    <tr>\n",
       "      <th>0</th>\n",
       "      <td>1000</td>\n",
       "      <td>YOUNG SINGLES/COUPLES</td>\n",
       "      <td>Premium</td>\n",
       "    </tr>\n",
       "    <tr>\n",
       "      <th>1</th>\n",
       "      <td>1002</td>\n",
       "      <td>YOUNG SINGLES/COUPLES</td>\n",
       "      <td>Mainstream</td>\n",
       "    </tr>\n",
       "    <tr>\n",
       "      <th>2</th>\n",
       "      <td>1003</td>\n",
       "      <td>YOUNG FAMILIES</td>\n",
       "      <td>Budget</td>\n",
       "    </tr>\n",
       "    <tr>\n",
       "      <th>3</th>\n",
       "      <td>1004</td>\n",
       "      <td>OLDER SINGLES/COUPLES</td>\n",
       "      <td>Mainstream</td>\n",
       "    </tr>\n",
       "    <tr>\n",
       "      <th>4</th>\n",
       "      <td>1005</td>\n",
       "      <td>MIDAGE SINGLES/COUPLES</td>\n",
       "      <td>Mainstream</td>\n",
       "    </tr>\n",
       "    <tr>\n",
       "      <th>...</th>\n",
       "      <td>...</td>\n",
       "      <td>...</td>\n",
       "      <td>...</td>\n",
       "    </tr>\n",
       "    <tr>\n",
       "      <th>72632</th>\n",
       "      <td>2370651</td>\n",
       "      <td>MIDAGE SINGLES/COUPLES</td>\n",
       "      <td>Mainstream</td>\n",
       "    </tr>\n",
       "    <tr>\n",
       "      <th>72633</th>\n",
       "      <td>2370701</td>\n",
       "      <td>YOUNG FAMILIES</td>\n",
       "      <td>Mainstream</td>\n",
       "    </tr>\n",
       "    <tr>\n",
       "      <th>72634</th>\n",
       "      <td>2370751</td>\n",
       "      <td>YOUNG FAMILIES</td>\n",
       "      <td>Premium</td>\n",
       "    </tr>\n",
       "    <tr>\n",
       "      <th>72635</th>\n",
       "      <td>2370961</td>\n",
       "      <td>OLDER FAMILIES</td>\n",
       "      <td>Budget</td>\n",
       "    </tr>\n",
       "    <tr>\n",
       "      <th>72636</th>\n",
       "      <td>2373711</td>\n",
       "      <td>YOUNG SINGLES/COUPLES</td>\n",
       "      <td>Mainstream</td>\n",
       "    </tr>\n",
       "  </tbody>\n",
       "</table>\n",
       "<p>72637 rows × 3 columns</p>\n",
       "</div>"
      ],
      "text/plain": [
       "       LYLTY_CARD_NBR               LIFESTAGE PREMIUM_CUSTOMER\n",
       "0                1000   YOUNG SINGLES/COUPLES          Premium\n",
       "1                1002   YOUNG SINGLES/COUPLES       Mainstream\n",
       "2                1003          YOUNG FAMILIES           Budget\n",
       "3                1004   OLDER SINGLES/COUPLES       Mainstream\n",
       "4                1005  MIDAGE SINGLES/COUPLES       Mainstream\n",
       "...               ...                     ...              ...\n",
       "72632         2370651  MIDAGE SINGLES/COUPLES       Mainstream\n",
       "72633         2370701          YOUNG FAMILIES       Mainstream\n",
       "72634         2370751          YOUNG FAMILIES          Premium\n",
       "72635         2370961          OLDER FAMILIES           Budget\n",
       "72636         2373711   YOUNG SINGLES/COUPLES       Mainstream\n",
       "\n",
       "[72637 rows x 3 columns]"
      ]
     },
     "execution_count": 4,
     "metadata": {},
     "output_type": "execute_result"
    }
   ],
   "source": [
    "customer\n"
   ]
  },
  {
   "cell_type": "code",
   "execution_count": 5,
   "id": "c119b44e",
   "metadata": {
    "scrolled": false
   },
   "outputs": [
    {
     "data": {
      "text/html": [
       "<div>\n",
       "<style scoped>\n",
       "    .dataframe tbody tr th:only-of-type {\n",
       "        vertical-align: middle;\n",
       "    }\n",
       "\n",
       "    .dataframe tbody tr th {\n",
       "        vertical-align: top;\n",
       "    }\n",
       "\n",
       "    .dataframe thead th {\n",
       "        text-align: right;\n",
       "    }\n",
       "</style>\n",
       "<table border=\"1\" class=\"dataframe\">\n",
       "  <thead>\n",
       "    <tr style=\"text-align: right;\">\n",
       "      <th></th>\n",
       "      <th>DATE</th>\n",
       "      <th>STORE_NBR</th>\n",
       "      <th>LYLTY_CARD_NBR</th>\n",
       "      <th>TXN_ID</th>\n",
       "      <th>PROD_NBR</th>\n",
       "      <th>PROD_NAME</th>\n",
       "      <th>PROD_QTY</th>\n",
       "      <th>TOT_SALES</th>\n",
       "    </tr>\n",
       "  </thead>\n",
       "  <tbody>\n",
       "    <tr>\n",
       "      <th>0</th>\n",
       "      <td>43390</td>\n",
       "      <td>1</td>\n",
       "      <td>1000</td>\n",
       "      <td>1</td>\n",
       "      <td>5</td>\n",
       "      <td>Natural Chip        Compny SeaSalt175g</td>\n",
       "      <td>2</td>\n",
       "      <td>6.0</td>\n",
       "    </tr>\n",
       "    <tr>\n",
       "      <th>1</th>\n",
       "      <td>43599</td>\n",
       "      <td>1</td>\n",
       "      <td>1307</td>\n",
       "      <td>348</td>\n",
       "      <td>66</td>\n",
       "      <td>CCs Nacho Cheese    175g</td>\n",
       "      <td>3</td>\n",
       "      <td>6.3</td>\n",
       "    </tr>\n",
       "    <tr>\n",
       "      <th>2</th>\n",
       "      <td>43605</td>\n",
       "      <td>1</td>\n",
       "      <td>1343</td>\n",
       "      <td>383</td>\n",
       "      <td>61</td>\n",
       "      <td>Smiths Crinkle Cut  Chips Chicken 170g</td>\n",
       "      <td>2</td>\n",
       "      <td>2.9</td>\n",
       "    </tr>\n",
       "    <tr>\n",
       "      <th>3</th>\n",
       "      <td>43329</td>\n",
       "      <td>2</td>\n",
       "      <td>2373</td>\n",
       "      <td>974</td>\n",
       "      <td>69</td>\n",
       "      <td>Smiths Chip Thinly  S/Cream&amp;Onion 175g</td>\n",
       "      <td>5</td>\n",
       "      <td>15.0</td>\n",
       "    </tr>\n",
       "    <tr>\n",
       "      <th>4</th>\n",
       "      <td>43330</td>\n",
       "      <td>2</td>\n",
       "      <td>2426</td>\n",
       "      <td>1038</td>\n",
       "      <td>108</td>\n",
       "      <td>Kettle Tortilla ChpsHny&amp;Jlpno Chili 150g</td>\n",
       "      <td>3</td>\n",
       "      <td>13.8</td>\n",
       "    </tr>\n",
       "    <tr>\n",
       "      <th>...</th>\n",
       "      <td>...</td>\n",
       "      <td>...</td>\n",
       "      <td>...</td>\n",
       "      <td>...</td>\n",
       "      <td>...</td>\n",
       "      <td>...</td>\n",
       "      <td>...</td>\n",
       "      <td>...</td>\n",
       "    </tr>\n",
       "    <tr>\n",
       "      <th>264831</th>\n",
       "      <td>43533</td>\n",
       "      <td>272</td>\n",
       "      <td>272319</td>\n",
       "      <td>270088</td>\n",
       "      <td>89</td>\n",
       "      <td>Kettle Sweet Chilli And Sour Cream 175g</td>\n",
       "      <td>2</td>\n",
       "      <td>10.8</td>\n",
       "    </tr>\n",
       "    <tr>\n",
       "      <th>264832</th>\n",
       "      <td>43325</td>\n",
       "      <td>272</td>\n",
       "      <td>272358</td>\n",
       "      <td>270154</td>\n",
       "      <td>74</td>\n",
       "      <td>Tostitos Splash Of  Lime 175g</td>\n",
       "      <td>1</td>\n",
       "      <td>4.4</td>\n",
       "    </tr>\n",
       "    <tr>\n",
       "      <th>264833</th>\n",
       "      <td>43410</td>\n",
       "      <td>272</td>\n",
       "      <td>272379</td>\n",
       "      <td>270187</td>\n",
       "      <td>51</td>\n",
       "      <td>Doritos Mexicana    170g</td>\n",
       "      <td>2</td>\n",
       "      <td>8.8</td>\n",
       "    </tr>\n",
       "    <tr>\n",
       "      <th>264834</th>\n",
       "      <td>43461</td>\n",
       "      <td>272</td>\n",
       "      <td>272379</td>\n",
       "      <td>270188</td>\n",
       "      <td>42</td>\n",
       "      <td>Doritos Corn Chip Mexican Jalapeno 150g</td>\n",
       "      <td>2</td>\n",
       "      <td>7.8</td>\n",
       "    </tr>\n",
       "    <tr>\n",
       "      <th>264835</th>\n",
       "      <td>43365</td>\n",
       "      <td>272</td>\n",
       "      <td>272380</td>\n",
       "      <td>270189</td>\n",
       "      <td>74</td>\n",
       "      <td>Tostitos Splash Of  Lime 175g</td>\n",
       "      <td>2</td>\n",
       "      <td>8.8</td>\n",
       "    </tr>\n",
       "  </tbody>\n",
       "</table>\n",
       "<p>264836 rows × 8 columns</p>\n",
       "</div>"
      ],
      "text/plain": [
       "         DATE  STORE_NBR  LYLTY_CARD_NBR  TXN_ID  PROD_NBR  \\\n",
       "0       43390          1            1000       1         5   \n",
       "1       43599          1            1307     348        66   \n",
       "2       43605          1            1343     383        61   \n",
       "3       43329          2            2373     974        69   \n",
       "4       43330          2            2426    1038       108   \n",
       "...       ...        ...             ...     ...       ...   \n",
       "264831  43533        272          272319  270088        89   \n",
       "264832  43325        272          272358  270154        74   \n",
       "264833  43410        272          272379  270187        51   \n",
       "264834  43461        272          272379  270188        42   \n",
       "264835  43365        272          272380  270189        74   \n",
       "\n",
       "                                       PROD_NAME  PROD_QTY  TOT_SALES  \n",
       "0         Natural Chip        Compny SeaSalt175g         2        6.0  \n",
       "1                       CCs Nacho Cheese    175g         3        6.3  \n",
       "2         Smiths Crinkle Cut  Chips Chicken 170g         2        2.9  \n",
       "3         Smiths Chip Thinly  S/Cream&Onion 175g         5       15.0  \n",
       "4       Kettle Tortilla ChpsHny&Jlpno Chili 150g         3       13.8  \n",
       "...                                          ...       ...        ...  \n",
       "264831   Kettle Sweet Chilli And Sour Cream 175g         2       10.8  \n",
       "264832             Tostitos Splash Of  Lime 175g         1        4.4  \n",
       "264833                  Doritos Mexicana    170g         2        8.8  \n",
       "264834   Doritos Corn Chip Mexican Jalapeno 150g         2        7.8  \n",
       "264835             Tostitos Splash Of  Lime 175g         2        8.8  \n",
       "\n",
       "[264836 rows x 8 columns]"
      ]
     },
     "execution_count": 5,
     "metadata": {},
     "output_type": "execute_result"
    }
   ],
   "source": [
    "potato"
   ]
  },
  {
   "cell_type": "markdown",
   "id": "25d16f4d",
   "metadata": {},
   "source": [
    "# Data exploration\n"
   ]
  },
  {
   "cell_type": "code",
   "execution_count": 6,
   "id": "090ce049",
   "metadata": {
    "scrolled": false
   },
   "outputs": [
    {
     "data": {
      "text/html": [
       "<div>\n",
       "<style scoped>\n",
       "    .dataframe tbody tr th:only-of-type {\n",
       "        vertical-align: middle;\n",
       "    }\n",
       "\n",
       "    .dataframe tbody tr th {\n",
       "        vertical-align: top;\n",
       "    }\n",
       "\n",
       "    .dataframe thead th {\n",
       "        text-align: right;\n",
       "    }\n",
       "</style>\n",
       "<table border=\"1\" class=\"dataframe\">\n",
       "  <thead>\n",
       "    <tr style=\"text-align: right;\">\n",
       "      <th></th>\n",
       "      <th>DATE</th>\n",
       "      <th>STORE_NBR</th>\n",
       "      <th>LYLTY_CARD_NBR</th>\n",
       "      <th>TXN_ID</th>\n",
       "      <th>PROD_NBR</th>\n",
       "      <th>PROD_QTY</th>\n",
       "      <th>TOT_SALES</th>\n",
       "    </tr>\n",
       "  </thead>\n",
       "  <tbody>\n",
       "    <tr>\n",
       "      <th>count</th>\n",
       "      <td>264836.000000</td>\n",
       "      <td>264836.00000</td>\n",
       "      <td>2.648360e+05</td>\n",
       "      <td>2.648360e+05</td>\n",
       "      <td>264836.000000</td>\n",
       "      <td>264836.000000</td>\n",
       "      <td>264836.000000</td>\n",
       "    </tr>\n",
       "    <tr>\n",
       "      <th>mean</th>\n",
       "      <td>43464.036260</td>\n",
       "      <td>135.08011</td>\n",
       "      <td>1.355495e+05</td>\n",
       "      <td>1.351583e+05</td>\n",
       "      <td>56.583157</td>\n",
       "      <td>1.907309</td>\n",
       "      <td>7.304200</td>\n",
       "    </tr>\n",
       "    <tr>\n",
       "      <th>std</th>\n",
       "      <td>105.389282</td>\n",
       "      <td>76.78418</td>\n",
       "      <td>8.057998e+04</td>\n",
       "      <td>7.813303e+04</td>\n",
       "      <td>32.826638</td>\n",
       "      <td>0.643654</td>\n",
       "      <td>3.083226</td>\n",
       "    </tr>\n",
       "    <tr>\n",
       "      <th>min</th>\n",
       "      <td>43282.000000</td>\n",
       "      <td>1.00000</td>\n",
       "      <td>1.000000e+03</td>\n",
       "      <td>1.000000e+00</td>\n",
       "      <td>1.000000</td>\n",
       "      <td>1.000000</td>\n",
       "      <td>1.500000</td>\n",
       "    </tr>\n",
       "    <tr>\n",
       "      <th>25%</th>\n",
       "      <td>43373.000000</td>\n",
       "      <td>70.00000</td>\n",
       "      <td>7.002100e+04</td>\n",
       "      <td>6.760150e+04</td>\n",
       "      <td>28.000000</td>\n",
       "      <td>2.000000</td>\n",
       "      <td>5.400000</td>\n",
       "    </tr>\n",
       "    <tr>\n",
       "      <th>50%</th>\n",
       "      <td>43464.000000</td>\n",
       "      <td>130.00000</td>\n",
       "      <td>1.303575e+05</td>\n",
       "      <td>1.351375e+05</td>\n",
       "      <td>56.000000</td>\n",
       "      <td>2.000000</td>\n",
       "      <td>7.400000</td>\n",
       "    </tr>\n",
       "    <tr>\n",
       "      <th>75%</th>\n",
       "      <td>43555.000000</td>\n",
       "      <td>203.00000</td>\n",
       "      <td>2.030942e+05</td>\n",
       "      <td>2.027012e+05</td>\n",
       "      <td>85.000000</td>\n",
       "      <td>2.000000</td>\n",
       "      <td>9.200000</td>\n",
       "    </tr>\n",
       "    <tr>\n",
       "      <th>max</th>\n",
       "      <td>43646.000000</td>\n",
       "      <td>272.00000</td>\n",
       "      <td>2.373711e+06</td>\n",
       "      <td>2.415841e+06</td>\n",
       "      <td>114.000000</td>\n",
       "      <td>200.000000</td>\n",
       "      <td>650.000000</td>\n",
       "    </tr>\n",
       "  </tbody>\n",
       "</table>\n",
       "</div>"
      ],
      "text/plain": [
       "                DATE     STORE_NBR  LYLTY_CARD_NBR        TXN_ID  \\\n",
       "count  264836.000000  264836.00000    2.648360e+05  2.648360e+05   \n",
       "mean    43464.036260     135.08011    1.355495e+05  1.351583e+05   \n",
       "std       105.389282      76.78418    8.057998e+04  7.813303e+04   \n",
       "min     43282.000000       1.00000    1.000000e+03  1.000000e+00   \n",
       "25%     43373.000000      70.00000    7.002100e+04  6.760150e+04   \n",
       "50%     43464.000000     130.00000    1.303575e+05  1.351375e+05   \n",
       "75%     43555.000000     203.00000    2.030942e+05  2.027012e+05   \n",
       "max     43646.000000     272.00000    2.373711e+06  2.415841e+06   \n",
       "\n",
       "            PROD_NBR       PROD_QTY      TOT_SALES  \n",
       "count  264836.000000  264836.000000  264836.000000  \n",
       "mean       56.583157       1.907309       7.304200  \n",
       "std        32.826638       0.643654       3.083226  \n",
       "min         1.000000       1.000000       1.500000  \n",
       "25%        28.000000       2.000000       5.400000  \n",
       "50%        56.000000       2.000000       7.400000  \n",
       "75%        85.000000       2.000000       9.200000  \n",
       "max       114.000000     200.000000     650.000000  "
      ]
     },
     "execution_count": 6,
     "metadata": {},
     "output_type": "execute_result"
    }
   ],
   "source": [
    "potato.describe()"
   ]
  },
  {
   "cell_type": "code",
   "execution_count": 7,
   "id": "5d757c1e",
   "metadata": {
    "scrolled": true
   },
   "outputs": [
    {
     "data": {
      "text/plain": [
       "(264836, 8)"
      ]
     },
     "execution_count": 7,
     "metadata": {},
     "output_type": "execute_result"
    }
   ],
   "source": [
    "potato.shape"
   ]
  },
  {
   "cell_type": "code",
   "execution_count": 8,
   "id": "895d75d8",
   "metadata": {
    "scrolled": true
   },
   "outputs": [
    {
     "name": "stdout",
     "output_type": "stream",
     "text": [
      "<class 'pandas.core.frame.DataFrame'>\n",
      "RangeIndex: 264836 entries, 0 to 264835\n",
      "Data columns (total 8 columns):\n",
      " #   Column          Non-Null Count   Dtype  \n",
      "---  ------          --------------   -----  \n",
      " 0   DATE            264836 non-null  int64  \n",
      " 1   STORE_NBR       264836 non-null  int64  \n",
      " 2   LYLTY_CARD_NBR  264836 non-null  int64  \n",
      " 3   TXN_ID          264836 non-null  int64  \n",
      " 4   PROD_NBR        264836 non-null  int64  \n",
      " 5   PROD_NAME       264836 non-null  object \n",
      " 6   PROD_QTY        264836 non-null  int64  \n",
      " 7   TOT_SALES       264836 non-null  float64\n",
      "dtypes: float64(1), int64(6), object(1)\n",
      "memory usage: 16.2+ MB\n"
     ]
    }
   ],
   "source": [
    "potato.info()"
   ]
  },
  {
   "cell_type": "markdown",
   "id": "23aff708",
   "metadata": {},
   "source": [
    "> - note: Date should be transform to approriate format, \n",
    "\n"
   ]
  },
  {
   "cell_type": "markdown",
   "id": "2844db53",
   "metadata": {},
   "source": [
    "**There are mutual columns that link the customer data with the potato data**"
   ]
  },
  {
   "cell_type": "code",
   "execution_count": 9,
   "id": "50a29d21",
   "metadata": {
    "scrolled": true
   },
   "outputs": [
    {
     "data": {
      "text/html": [
       "<div>\n",
       "<style scoped>\n",
       "    .dataframe tbody tr th:only-of-type {\n",
       "        vertical-align: middle;\n",
       "    }\n",
       "\n",
       "    .dataframe tbody tr th {\n",
       "        vertical-align: top;\n",
       "    }\n",
       "\n",
       "    .dataframe thead th {\n",
       "        text-align: right;\n",
       "    }\n",
       "</style>\n",
       "<table border=\"1\" class=\"dataframe\">\n",
       "  <thead>\n",
       "    <tr style=\"text-align: right;\">\n",
       "      <th></th>\n",
       "      <th>DATE</th>\n",
       "      <th>STORE_NBR</th>\n",
       "      <th>TXN_ID</th>\n",
       "      <th>PROD_NBR</th>\n",
       "      <th>PROD_NAME</th>\n",
       "      <th>PROD_QTY</th>\n",
       "      <th>TOT_SALES</th>\n",
       "      <th>LIFESTAGE</th>\n",
       "      <th>PREMIUM_CUSTOMER</th>\n",
       "    </tr>\n",
       "    <tr>\n",
       "      <th>LYLTY_CARD_NBR</th>\n",
       "      <th></th>\n",
       "      <th></th>\n",
       "      <th></th>\n",
       "      <th></th>\n",
       "      <th></th>\n",
       "      <th></th>\n",
       "      <th></th>\n",
       "      <th></th>\n",
       "      <th></th>\n",
       "    </tr>\n",
       "  </thead>\n",
       "  <tbody>\n",
       "    <tr>\n",
       "      <th>1000</th>\n",
       "      <td>43390</td>\n",
       "      <td>1</td>\n",
       "      <td>1</td>\n",
       "      <td>5</td>\n",
       "      <td>Natural Chip        Compny SeaSalt175g</td>\n",
       "      <td>2</td>\n",
       "      <td>6.0</td>\n",
       "      <td>YOUNG SINGLES/COUPLES</td>\n",
       "      <td>Premium</td>\n",
       "    </tr>\n",
       "    <tr>\n",
       "      <th>1002</th>\n",
       "      <td>43359</td>\n",
       "      <td>1</td>\n",
       "      <td>2</td>\n",
       "      <td>58</td>\n",
       "      <td>Red Rock Deli Chikn&amp;Garlic Aioli 150g</td>\n",
       "      <td>1</td>\n",
       "      <td>2.7</td>\n",
       "      <td>YOUNG SINGLES/COUPLES</td>\n",
       "      <td>Mainstream</td>\n",
       "    </tr>\n",
       "    <tr>\n",
       "      <th>1003</th>\n",
       "      <td>43531</td>\n",
       "      <td>1</td>\n",
       "      <td>3</td>\n",
       "      <td>52</td>\n",
       "      <td>Grain Waves Sour    Cream&amp;Chives 210G</td>\n",
       "      <td>1</td>\n",
       "      <td>3.6</td>\n",
       "      <td>YOUNG FAMILIES</td>\n",
       "      <td>Budget</td>\n",
       "    </tr>\n",
       "    <tr>\n",
       "      <th>1003</th>\n",
       "      <td>43532</td>\n",
       "      <td>1</td>\n",
       "      <td>4</td>\n",
       "      <td>106</td>\n",
       "      <td>Natural ChipCo      Hony Soy Chckn175g</td>\n",
       "      <td>1</td>\n",
       "      <td>3.0</td>\n",
       "      <td>YOUNG FAMILIES</td>\n",
       "      <td>Budget</td>\n",
       "    </tr>\n",
       "    <tr>\n",
       "      <th>1004</th>\n",
       "      <td>43406</td>\n",
       "      <td>1</td>\n",
       "      <td>5</td>\n",
       "      <td>96</td>\n",
       "      <td>WW Original Stacked Chips 160g</td>\n",
       "      <td>1</td>\n",
       "      <td>1.9</td>\n",
       "      <td>OLDER SINGLES/COUPLES</td>\n",
       "      <td>Mainstream</td>\n",
       "    </tr>\n",
       "    <tr>\n",
       "      <th>...</th>\n",
       "      <td>...</td>\n",
       "      <td>...</td>\n",
       "      <td>...</td>\n",
       "      <td>...</td>\n",
       "      <td>...</td>\n",
       "      <td>...</td>\n",
       "      <td>...</td>\n",
       "      <td>...</td>\n",
       "      <td>...</td>\n",
       "    </tr>\n",
       "    <tr>\n",
       "      <th>2370701</th>\n",
       "      <td>43442</td>\n",
       "      <td>88</td>\n",
       "      <td>240378</td>\n",
       "      <td>24</td>\n",
       "      <td>Grain Waves         Sweet Chilli 210g</td>\n",
       "      <td>2</td>\n",
       "      <td>7.2</td>\n",
       "      <td>YOUNG FAMILIES</td>\n",
       "      <td>Mainstream</td>\n",
       "    </tr>\n",
       "    <tr>\n",
       "      <th>2370751</th>\n",
       "      <td>43374</td>\n",
       "      <td>88</td>\n",
       "      <td>240394</td>\n",
       "      <td>60</td>\n",
       "      <td>Kettle Tortilla ChpsFeta&amp;Garlic 150g</td>\n",
       "      <td>2</td>\n",
       "      <td>9.2</td>\n",
       "      <td>YOUNG FAMILIES</td>\n",
       "      <td>Premium</td>\n",
       "    </tr>\n",
       "    <tr>\n",
       "      <th>2370961</th>\n",
       "      <td>43397</td>\n",
       "      <td>88</td>\n",
       "      <td>240480</td>\n",
       "      <td>70</td>\n",
       "      <td>Tyrrells Crisps     Lightly Salted 165g</td>\n",
       "      <td>2</td>\n",
       "      <td>8.4</td>\n",
       "      <td>OLDER FAMILIES</td>\n",
       "      <td>Budget</td>\n",
       "    </tr>\n",
       "    <tr>\n",
       "      <th>2370961</th>\n",
       "      <td>43400</td>\n",
       "      <td>88</td>\n",
       "      <td>240481</td>\n",
       "      <td>65</td>\n",
       "      <td>Old El Paso Salsa   Dip Chnky Tom Ht300g</td>\n",
       "      <td>2</td>\n",
       "      <td>10.2</td>\n",
       "      <td>OLDER FAMILIES</td>\n",
       "      <td>Budget</td>\n",
       "    </tr>\n",
       "    <tr>\n",
       "      <th>2373711</th>\n",
       "      <td>43448</td>\n",
       "      <td>88</td>\n",
       "      <td>241815</td>\n",
       "      <td>16</td>\n",
       "      <td>Smiths Crinkle Chips Salt &amp; Vinegar 330g</td>\n",
       "      <td>2</td>\n",
       "      <td>11.4</td>\n",
       "      <td>YOUNG SINGLES/COUPLES</td>\n",
       "      <td>Mainstream</td>\n",
       "    </tr>\n",
       "  </tbody>\n",
       "</table>\n",
       "<p>264836 rows × 9 columns</p>\n",
       "</div>"
      ],
      "text/plain": [
       "                 DATE  STORE_NBR  TXN_ID  PROD_NBR  \\\n",
       "LYLTY_CARD_NBR                                       \n",
       "1000            43390          1       1         5   \n",
       "1002            43359          1       2        58   \n",
       "1003            43531          1       3        52   \n",
       "1003            43532          1       4       106   \n",
       "1004            43406          1       5        96   \n",
       "...               ...        ...     ...       ...   \n",
       "2370701         43442         88  240378        24   \n",
       "2370751         43374         88  240394        60   \n",
       "2370961         43397         88  240480        70   \n",
       "2370961         43400         88  240481        65   \n",
       "2373711         43448         88  241815        16   \n",
       "\n",
       "                                               PROD_NAME  PROD_QTY  TOT_SALES  \\\n",
       "LYLTY_CARD_NBR                                                                  \n",
       "1000              Natural Chip        Compny SeaSalt175g         2        6.0   \n",
       "1002               Red Rock Deli Chikn&Garlic Aioli 150g         1        2.7   \n",
       "1003               Grain Waves Sour    Cream&Chives 210G         1        3.6   \n",
       "1003              Natural ChipCo      Hony Soy Chckn175g         1        3.0   \n",
       "1004                      WW Original Stacked Chips 160g         1        1.9   \n",
       "...                                                  ...       ...        ...   \n",
       "2370701            Grain Waves         Sweet Chilli 210g         2        7.2   \n",
       "2370751             Kettle Tortilla ChpsFeta&Garlic 150g         2        9.2   \n",
       "2370961          Tyrrells Crisps     Lightly Salted 165g         2        8.4   \n",
       "2370961         Old El Paso Salsa   Dip Chnky Tom Ht300g         2       10.2   \n",
       "2373711         Smiths Crinkle Chips Salt & Vinegar 330g         2       11.4   \n",
       "\n",
       "                            LIFESTAGE PREMIUM_CUSTOMER  \n",
       "LYLTY_CARD_NBR                                          \n",
       "1000            YOUNG SINGLES/COUPLES          Premium  \n",
       "1002            YOUNG SINGLES/COUPLES       Mainstream  \n",
       "1003                   YOUNG FAMILIES           Budget  \n",
       "1003                   YOUNG FAMILIES           Budget  \n",
       "1004            OLDER SINGLES/COUPLES       Mainstream  \n",
       "...                               ...              ...  \n",
       "2370701                YOUNG FAMILIES       Mainstream  \n",
       "2370751                YOUNG FAMILIES          Premium  \n",
       "2370961                OLDER FAMILIES           Budget  \n",
       "2370961                OLDER FAMILIES           Budget  \n",
       "2373711         YOUNG SINGLES/COUPLES       Mainstream  \n",
       "\n",
       "[264836 rows x 9 columns]"
      ]
     },
     "execution_count": 9,
     "metadata": {},
     "output_type": "execute_result"
    }
   ],
   "source": [
    "potato.set_index('LYLTY_CARD_NBR').join(customer.set_index('LYLTY_CARD_NBR'))"
   ]
  },
  {
   "cell_type": "code",
   "execution_count": 10,
   "id": "721162b5",
   "metadata": {},
   "outputs": [],
   "source": [
    "merge = customer.set_index('LYLTY_CARD_NBR').join(potato.set_index('LYLTY_CARD_NBR'))"
   ]
  },
  {
   "cell_type": "code",
   "execution_count": 11,
   "id": "0e6fbc03",
   "metadata": {
    "scrolled": false
   },
   "outputs": [
    {
     "data": {
      "text/html": [
       "<div>\n",
       "<style scoped>\n",
       "    .dataframe tbody tr th:only-of-type {\n",
       "        vertical-align: middle;\n",
       "    }\n",
       "\n",
       "    .dataframe tbody tr th {\n",
       "        vertical-align: top;\n",
       "    }\n",
       "\n",
       "    .dataframe thead th {\n",
       "        text-align: right;\n",
       "    }\n",
       "</style>\n",
       "<table border=\"1\" class=\"dataframe\">\n",
       "  <thead>\n",
       "    <tr style=\"text-align: right;\">\n",
       "      <th></th>\n",
       "      <th>LYLTY_CARD_NBR</th>\n",
       "      <th>LIFESTAGE</th>\n",
       "      <th>PREMIUM_CUSTOMER</th>\n",
       "      <th>DATE</th>\n",
       "      <th>STORE_NBR</th>\n",
       "      <th>TXN_ID</th>\n",
       "      <th>PROD_NBR</th>\n",
       "      <th>PROD_NAME</th>\n",
       "      <th>PROD_QTY</th>\n",
       "      <th>TOT_SALES</th>\n",
       "    </tr>\n",
       "  </thead>\n",
       "  <tbody>\n",
       "    <tr>\n",
       "      <th>0</th>\n",
       "      <td>1000</td>\n",
       "      <td>YOUNG SINGLES/COUPLES</td>\n",
       "      <td>Premium</td>\n",
       "      <td>43390</td>\n",
       "      <td>1</td>\n",
       "      <td>1</td>\n",
       "      <td>5</td>\n",
       "      <td>Natural Chip        Compny SeaSalt175g</td>\n",
       "      <td>2</td>\n",
       "      <td>6.0</td>\n",
       "    </tr>\n",
       "    <tr>\n",
       "      <th>1</th>\n",
       "      <td>1002</td>\n",
       "      <td>YOUNG SINGLES/COUPLES</td>\n",
       "      <td>Mainstream</td>\n",
       "      <td>43359</td>\n",
       "      <td>1</td>\n",
       "      <td>2</td>\n",
       "      <td>58</td>\n",
       "      <td>Red Rock Deli Chikn&amp;Garlic Aioli 150g</td>\n",
       "      <td>1</td>\n",
       "      <td>2.7</td>\n",
       "    </tr>\n",
       "    <tr>\n",
       "      <th>2</th>\n",
       "      <td>1003</td>\n",
       "      <td>YOUNG FAMILIES</td>\n",
       "      <td>Budget</td>\n",
       "      <td>43531</td>\n",
       "      <td>1</td>\n",
       "      <td>3</td>\n",
       "      <td>52</td>\n",
       "      <td>Grain Waves Sour    Cream&amp;Chives 210G</td>\n",
       "      <td>1</td>\n",
       "      <td>3.6</td>\n",
       "    </tr>\n",
       "    <tr>\n",
       "      <th>3</th>\n",
       "      <td>1003</td>\n",
       "      <td>YOUNG FAMILIES</td>\n",
       "      <td>Budget</td>\n",
       "      <td>43532</td>\n",
       "      <td>1</td>\n",
       "      <td>4</td>\n",
       "      <td>106</td>\n",
       "      <td>Natural ChipCo      Hony Soy Chckn175g</td>\n",
       "      <td>1</td>\n",
       "      <td>3.0</td>\n",
       "    </tr>\n",
       "    <tr>\n",
       "      <th>4</th>\n",
       "      <td>1004</td>\n",
       "      <td>OLDER SINGLES/COUPLES</td>\n",
       "      <td>Mainstream</td>\n",
       "      <td>43406</td>\n",
       "      <td>1</td>\n",
       "      <td>5</td>\n",
       "      <td>96</td>\n",
       "      <td>WW Original Stacked Chips 160g</td>\n",
       "      <td>1</td>\n",
       "      <td>1.9</td>\n",
       "    </tr>\n",
       "    <tr>\n",
       "      <th>...</th>\n",
       "      <td>...</td>\n",
       "      <td>...</td>\n",
       "      <td>...</td>\n",
       "      <td>...</td>\n",
       "      <td>...</td>\n",
       "      <td>...</td>\n",
       "      <td>...</td>\n",
       "      <td>...</td>\n",
       "      <td>...</td>\n",
       "      <td>...</td>\n",
       "    </tr>\n",
       "    <tr>\n",
       "      <th>264831</th>\n",
       "      <td>2370701</td>\n",
       "      <td>YOUNG FAMILIES</td>\n",
       "      <td>Mainstream</td>\n",
       "      <td>43442</td>\n",
       "      <td>88</td>\n",
       "      <td>240378</td>\n",
       "      <td>24</td>\n",
       "      <td>Grain Waves         Sweet Chilli 210g</td>\n",
       "      <td>2</td>\n",
       "      <td>7.2</td>\n",
       "    </tr>\n",
       "    <tr>\n",
       "      <th>264832</th>\n",
       "      <td>2370751</td>\n",
       "      <td>YOUNG FAMILIES</td>\n",
       "      <td>Premium</td>\n",
       "      <td>43374</td>\n",
       "      <td>88</td>\n",
       "      <td>240394</td>\n",
       "      <td>60</td>\n",
       "      <td>Kettle Tortilla ChpsFeta&amp;Garlic 150g</td>\n",
       "      <td>2</td>\n",
       "      <td>9.2</td>\n",
       "    </tr>\n",
       "    <tr>\n",
       "      <th>264833</th>\n",
       "      <td>2370961</td>\n",
       "      <td>OLDER FAMILIES</td>\n",
       "      <td>Budget</td>\n",
       "      <td>43397</td>\n",
       "      <td>88</td>\n",
       "      <td>240480</td>\n",
       "      <td>70</td>\n",
       "      <td>Tyrrells Crisps     Lightly Salted 165g</td>\n",
       "      <td>2</td>\n",
       "      <td>8.4</td>\n",
       "    </tr>\n",
       "    <tr>\n",
       "      <th>264834</th>\n",
       "      <td>2370961</td>\n",
       "      <td>OLDER FAMILIES</td>\n",
       "      <td>Budget</td>\n",
       "      <td>43400</td>\n",
       "      <td>88</td>\n",
       "      <td>240481</td>\n",
       "      <td>65</td>\n",
       "      <td>Old El Paso Salsa   Dip Chnky Tom Ht300g</td>\n",
       "      <td>2</td>\n",
       "      <td>10.2</td>\n",
       "    </tr>\n",
       "    <tr>\n",
       "      <th>264835</th>\n",
       "      <td>2373711</td>\n",
       "      <td>YOUNG SINGLES/COUPLES</td>\n",
       "      <td>Mainstream</td>\n",
       "      <td>43448</td>\n",
       "      <td>88</td>\n",
       "      <td>241815</td>\n",
       "      <td>16</td>\n",
       "      <td>Smiths Crinkle Chips Salt &amp; Vinegar 330g</td>\n",
       "      <td>2</td>\n",
       "      <td>11.4</td>\n",
       "    </tr>\n",
       "  </tbody>\n",
       "</table>\n",
       "<p>264836 rows × 10 columns</p>\n",
       "</div>"
      ],
      "text/plain": [
       "        LYLTY_CARD_NBR              LIFESTAGE PREMIUM_CUSTOMER   DATE  \\\n",
       "0                 1000  YOUNG SINGLES/COUPLES          Premium  43390   \n",
       "1                 1002  YOUNG SINGLES/COUPLES       Mainstream  43359   \n",
       "2                 1003         YOUNG FAMILIES           Budget  43531   \n",
       "3                 1003         YOUNG FAMILIES           Budget  43532   \n",
       "4                 1004  OLDER SINGLES/COUPLES       Mainstream  43406   \n",
       "...                ...                    ...              ...    ...   \n",
       "264831         2370701         YOUNG FAMILIES       Mainstream  43442   \n",
       "264832         2370751         YOUNG FAMILIES          Premium  43374   \n",
       "264833         2370961         OLDER FAMILIES           Budget  43397   \n",
       "264834         2370961         OLDER FAMILIES           Budget  43400   \n",
       "264835         2373711  YOUNG SINGLES/COUPLES       Mainstream  43448   \n",
       "\n",
       "        STORE_NBR  TXN_ID  PROD_NBR                                 PROD_NAME  \\\n",
       "0               1       1         5    Natural Chip        Compny SeaSalt175g   \n",
       "1               1       2        58     Red Rock Deli Chikn&Garlic Aioli 150g   \n",
       "2               1       3        52     Grain Waves Sour    Cream&Chives 210G   \n",
       "3               1       4       106    Natural ChipCo      Hony Soy Chckn175g   \n",
       "4               1       5        96            WW Original Stacked Chips 160g   \n",
       "...           ...     ...       ...                                       ...   \n",
       "264831         88  240378        24     Grain Waves         Sweet Chilli 210g   \n",
       "264832         88  240394        60      Kettle Tortilla ChpsFeta&Garlic 150g   \n",
       "264833         88  240480        70   Tyrrells Crisps     Lightly Salted 165g   \n",
       "264834         88  240481        65  Old El Paso Salsa   Dip Chnky Tom Ht300g   \n",
       "264835         88  241815        16  Smiths Crinkle Chips Salt & Vinegar 330g   \n",
       "\n",
       "        PROD_QTY  TOT_SALES  \n",
       "0              2        6.0  \n",
       "1              1        2.7  \n",
       "2              1        3.6  \n",
       "3              1        3.0  \n",
       "4              1        1.9  \n",
       "...          ...        ...  \n",
       "264831         2        7.2  \n",
       "264832         2        9.2  \n",
       "264833         2        8.4  \n",
       "264834         2       10.2  \n",
       "264835         2       11.4  \n",
       "\n",
       "[264836 rows x 10 columns]"
      ]
     },
     "execution_count": 11,
     "metadata": {},
     "output_type": "execute_result"
    }
   ],
   "source": [
    "merge.reset_index()"
   ]
  },
  {
   "cell_type": "markdown",
   "id": "c524016f",
   "metadata": {},
   "source": [
    "**Transform DATE columns in to approriate date**"
   ]
  },
  {
   "cell_type": "code",
   "execution_count": 12,
   "id": "7b089fec",
   "metadata": {},
   "outputs": [],
   "source": [
    "merge['DATE'] = pd.to_datetime(merge['DATE'], origin = '1899-12-30',errors='coerce',unit='d' )\n"
   ]
  },
  {
   "cell_type": "code",
   "execution_count": 13,
   "id": "dacbf721",
   "metadata": {},
   "outputs": [],
   "source": [
    "potato['DATE'] = pd.to_datetime(potato['DATE'], origin = '1899-12-30',errors='coerce',unit='d' )\n"
   ]
  },
  {
   "cell_type": "code",
   "execution_count": 14,
   "id": "055cb68d",
   "metadata": {
    "scrolled": false
   },
   "outputs": [
    {
     "data": {
      "text/html": [
       "<div>\n",
       "<style scoped>\n",
       "    .dataframe tbody tr th:only-of-type {\n",
       "        vertical-align: middle;\n",
       "    }\n",
       "\n",
       "    .dataframe tbody tr th {\n",
       "        vertical-align: top;\n",
       "    }\n",
       "\n",
       "    .dataframe thead th {\n",
       "        text-align: right;\n",
       "    }\n",
       "</style>\n",
       "<table border=\"1\" class=\"dataframe\">\n",
       "  <thead>\n",
       "    <tr style=\"text-align: right;\">\n",
       "      <th></th>\n",
       "      <th>LIFESTAGE</th>\n",
       "      <th>PREMIUM_CUSTOMER</th>\n",
       "      <th>DATE</th>\n",
       "      <th>STORE_NBR</th>\n",
       "      <th>TXN_ID</th>\n",
       "      <th>PROD_NBR</th>\n",
       "      <th>PROD_NAME</th>\n",
       "      <th>PROD_QTY</th>\n",
       "      <th>TOT_SALES</th>\n",
       "    </tr>\n",
       "    <tr>\n",
       "      <th>LYLTY_CARD_NBR</th>\n",
       "      <th></th>\n",
       "      <th></th>\n",
       "      <th></th>\n",
       "      <th></th>\n",
       "      <th></th>\n",
       "      <th></th>\n",
       "      <th></th>\n",
       "      <th></th>\n",
       "      <th></th>\n",
       "    </tr>\n",
       "  </thead>\n",
       "  <tbody>\n",
       "    <tr>\n",
       "      <th>78115</th>\n",
       "      <td>MIDAGE SINGLES/COUPLES</td>\n",
       "      <td>Mainstream</td>\n",
       "      <td>2018-07-01</td>\n",
       "      <td>78</td>\n",
       "      <td>76138</td>\n",
       "      <td>87</td>\n",
       "      <td>Infuzions BBQ Rib   Prawn Crackers 110g</td>\n",
       "      <td>2</td>\n",
       "      <td>7.6</td>\n",
       "    </tr>\n",
       "    <tr>\n",
       "      <th>220035</th>\n",
       "      <td>YOUNG SINGLES/COUPLES</td>\n",
       "      <td>Mainstream</td>\n",
       "      <td>2018-07-01</td>\n",
       "      <td>220</td>\n",
       "      <td>219501</td>\n",
       "      <td>81</td>\n",
       "      <td>Pringles Original   Crisps 134g</td>\n",
       "      <td>2</td>\n",
       "      <td>7.4</td>\n",
       "    </tr>\n",
       "    <tr>\n",
       "      <th>141141</th>\n",
       "      <td>YOUNG SINGLES/COUPLES</td>\n",
       "      <td>Mainstream</td>\n",
       "      <td>2018-07-01</td>\n",
       "      <td>141</td>\n",
       "      <td>142377</td>\n",
       "      <td>89</td>\n",
       "      <td>Kettle Sweet Chilli And Sour Cream 175g</td>\n",
       "      <td>2</td>\n",
       "      <td>10.8</td>\n",
       "    </tr>\n",
       "    <tr>\n",
       "      <th>59307</th>\n",
       "      <td>YOUNG SINGLES/COUPLES</td>\n",
       "      <td>Mainstream</td>\n",
       "      <td>2018-07-01</td>\n",
       "      <td>59</td>\n",
       "      <td>55832</td>\n",
       "      <td>17</td>\n",
       "      <td>Kettle Sensations   BBQ&amp;Maple 150g</td>\n",
       "      <td>2</td>\n",
       "      <td>9.2</td>\n",
       "    </tr>\n",
       "    <tr>\n",
       "      <th>39086</th>\n",
       "      <td>OLDER SINGLES/COUPLES</td>\n",
       "      <td>Mainstream</td>\n",
       "      <td>2018-07-01</td>\n",
       "      <td>39</td>\n",
       "      <td>35147</td>\n",
       "      <td>107</td>\n",
       "      <td>Smiths Crinkle Cut  French OnionDip 150g</td>\n",
       "      <td>2</td>\n",
       "      <td>5.2</td>\n",
       "    </tr>\n",
       "    <tr>\n",
       "      <th>...</th>\n",
       "      <td>...</td>\n",
       "      <td>...</td>\n",
       "      <td>...</td>\n",
       "      <td>...</td>\n",
       "      <td>...</td>\n",
       "      <td>...</td>\n",
       "      <td>...</td>\n",
       "      <td>...</td>\n",
       "      <td>...</td>\n",
       "    </tr>\n",
       "    <tr>\n",
       "      <th>156186</th>\n",
       "      <td>OLDER SINGLES/COUPLES</td>\n",
       "      <td>Premium</td>\n",
       "      <td>2019-06-30</td>\n",
       "      <td>156</td>\n",
       "      <td>157872</td>\n",
       "      <td>93</td>\n",
       "      <td>Doritos Corn Chip Southern Chicken 150g</td>\n",
       "      <td>2</td>\n",
       "      <td>7.8</td>\n",
       "    </tr>\n",
       "    <tr>\n",
       "      <th>110247</th>\n",
       "      <td>OLDER SINGLES/COUPLES</td>\n",
       "      <td>Premium</td>\n",
       "      <td>2019-06-30</td>\n",
       "      <td>110</td>\n",
       "      <td>113041</td>\n",
       "      <td>88</td>\n",
       "      <td>Kettle Honey Soy    Chicken 175g</td>\n",
       "      <td>2</td>\n",
       "      <td>10.8</td>\n",
       "    </tr>\n",
       "    <tr>\n",
       "      <th>187156</th>\n",
       "      <td>YOUNG SINGLES/COUPLES</td>\n",
       "      <td>Mainstream</td>\n",
       "      <td>2019-06-30</td>\n",
       "      <td>187</td>\n",
       "      <td>189059</td>\n",
       "      <td>77</td>\n",
       "      <td>Doritos Corn Chips  Nacho Cheese 170g</td>\n",
       "      <td>2</td>\n",
       "      <td>8.8</td>\n",
       "    </tr>\n",
       "    <tr>\n",
       "      <th>104098</th>\n",
       "      <td>OLDER FAMILIES</td>\n",
       "      <td>Budget</td>\n",
       "      <td>2019-06-30</td>\n",
       "      <td>104</td>\n",
       "      <td>104313</td>\n",
       "      <td>114</td>\n",
       "      <td>Kettle Sensations   Siracha Lime 150g</td>\n",
       "      <td>2</td>\n",
       "      <td>9.2</td>\n",
       "    </tr>\n",
       "    <tr>\n",
       "      <th>53382</th>\n",
       "      <td>RETIREES</td>\n",
       "      <td>Budget</td>\n",
       "      <td>2019-06-30</td>\n",
       "      <td>53</td>\n",
       "      <td>47672</td>\n",
       "      <td>39</td>\n",
       "      <td>Smiths Crinkle Cut  Tomato Salsa 150g</td>\n",
       "      <td>2</td>\n",
       "      <td>5.2</td>\n",
       "    </tr>\n",
       "  </tbody>\n",
       "</table>\n",
       "<p>264836 rows × 9 columns</p>\n",
       "</div>"
      ],
      "text/plain": [
       "                             LIFESTAGE PREMIUM_CUSTOMER       DATE  STORE_NBR  \\\n",
       "LYLTY_CARD_NBR                                                                  \n",
       "78115           MIDAGE SINGLES/COUPLES       Mainstream 2018-07-01         78   \n",
       "220035           YOUNG SINGLES/COUPLES       Mainstream 2018-07-01        220   \n",
       "141141           YOUNG SINGLES/COUPLES       Mainstream 2018-07-01        141   \n",
       "59307            YOUNG SINGLES/COUPLES       Mainstream 2018-07-01         59   \n",
       "39086            OLDER SINGLES/COUPLES       Mainstream 2018-07-01         39   \n",
       "...                                ...              ...        ...        ...   \n",
       "156186           OLDER SINGLES/COUPLES          Premium 2019-06-30        156   \n",
       "110247           OLDER SINGLES/COUPLES          Premium 2019-06-30        110   \n",
       "187156           YOUNG SINGLES/COUPLES       Mainstream 2019-06-30        187   \n",
       "104098                  OLDER FAMILIES           Budget 2019-06-30        104   \n",
       "53382                         RETIREES           Budget 2019-06-30         53   \n",
       "\n",
       "                TXN_ID  PROD_NBR                                 PROD_NAME  \\\n",
       "LYLTY_CARD_NBR                                                               \n",
       "78115            76138        87   Infuzions BBQ Rib   Prawn Crackers 110g   \n",
       "220035          219501        81           Pringles Original   Crisps 134g   \n",
       "141141          142377        89   Kettle Sweet Chilli And Sour Cream 175g   \n",
       "59307            55832        17        Kettle Sensations   BBQ&Maple 150g   \n",
       "39086            35147       107  Smiths Crinkle Cut  French OnionDip 150g   \n",
       "...                ...       ...                                       ...   \n",
       "156186          157872        93   Doritos Corn Chip Southern Chicken 150g   \n",
       "110247          113041        88          Kettle Honey Soy    Chicken 175g   \n",
       "187156          189059        77     Doritos Corn Chips  Nacho Cheese 170g   \n",
       "104098          104313       114     Kettle Sensations   Siracha Lime 150g   \n",
       "53382            47672        39     Smiths Crinkle Cut  Tomato Salsa 150g   \n",
       "\n",
       "                PROD_QTY  TOT_SALES  \n",
       "LYLTY_CARD_NBR                       \n",
       "78115                  2        7.6  \n",
       "220035                 2        7.4  \n",
       "141141                 2       10.8  \n",
       "59307                  2        9.2  \n",
       "39086                  2        5.2  \n",
       "...                  ...        ...  \n",
       "156186                 2        7.8  \n",
       "110247                 2       10.8  \n",
       "187156                 2        8.8  \n",
       "104098                 2        9.2  \n",
       "53382                  2        5.2  \n",
       "\n",
       "[264836 rows x 9 columns]"
      ]
     },
     "execution_count": 14,
     "metadata": {},
     "output_type": "execute_result"
    }
   ],
   "source": [
    "merge.sort_values(by = ['DATE'])"
   ]
  },
  {
   "cell_type": "code",
   "execution_count": 15,
   "id": "c23bba3a",
   "metadata": {},
   "outputs": [],
   "source": [
    "merge = merge.reset_index()"
   ]
  },
  {
   "cell_type": "code",
   "execution_count": 16,
   "id": "c14c126b",
   "metadata": {},
   "outputs": [
    {
     "data": {
      "text/plain": [
       "LYLTY_CARD_NBR      0\n",
       "LIFESTAGE           0\n",
       "PREMIUM_CUSTOMER    0\n",
       "DATE                0\n",
       "STORE_NBR           0\n",
       "TXN_ID              0\n",
       "PROD_NBR            0\n",
       "PROD_NAME           0\n",
       "PROD_QTY            0\n",
       "TOT_SALES           0\n",
       "dtype: int64"
      ]
     },
     "execution_count": 16,
     "metadata": {},
     "output_type": "execute_result"
    }
   ],
   "source": [
    "merge.isna().sum()"
   ]
  },
  {
   "cell_type": "code",
   "execution_count": 17,
   "id": "bee7d9d7",
   "metadata": {
    "scrolled": true
   },
   "outputs": [
    {
     "data": {
      "text/html": [
       "<div>\n",
       "<style scoped>\n",
       "    .dataframe tbody tr th:only-of-type {\n",
       "        vertical-align: middle;\n",
       "    }\n",
       "\n",
       "    .dataframe tbody tr th {\n",
       "        vertical-align: top;\n",
       "    }\n",
       "\n",
       "    .dataframe thead th {\n",
       "        text-align: right;\n",
       "    }\n",
       "</style>\n",
       "<table border=\"1\" class=\"dataframe\">\n",
       "  <thead>\n",
       "    <tr style=\"text-align: right;\">\n",
       "      <th></th>\n",
       "      <th>PREMIUM_CUSTOMER</th>\n",
       "      <th>count</th>\n",
       "    </tr>\n",
       "  </thead>\n",
       "  <tbody>\n",
       "    <tr>\n",
       "      <th>0</th>\n",
       "      <td>Budget</td>\n",
       "      <td>93157</td>\n",
       "    </tr>\n",
       "    <tr>\n",
       "      <th>1</th>\n",
       "      <td>Mainstream</td>\n",
       "      <td>101988</td>\n",
       "    </tr>\n",
       "    <tr>\n",
       "      <th>2</th>\n",
       "      <td>Premium</td>\n",
       "      <td>69691</td>\n",
       "    </tr>\n",
       "  </tbody>\n",
       "</table>\n",
       "</div>"
      ],
      "text/plain": [
       "  PREMIUM_CUSTOMER   count\n",
       "0           Budget   93157\n",
       "1       Mainstream  101988\n",
       "2          Premium   69691"
      ]
     },
     "execution_count": 17,
     "metadata": {},
     "output_type": "execute_result"
    }
   ],
   "source": [
    "merge.groupby(merge['PREMIUM_CUSTOMER']).count()['PROD_QTY'].reset_index(name = 'count')"
   ]
  },
  {
   "cell_type": "code",
   "execution_count": 18,
   "id": "ebe90101",
   "metadata": {
    "scrolled": true
   },
   "outputs": [
    {
     "data": {
      "text/html": [
       "<div>\n",
       "<style scoped>\n",
       "    .dataframe tbody tr th:only-of-type {\n",
       "        vertical-align: middle;\n",
       "    }\n",
       "\n",
       "    .dataframe tbody tr th {\n",
       "        vertical-align: top;\n",
       "    }\n",
       "\n",
       "    .dataframe thead th {\n",
       "        text-align: right;\n",
       "    }\n",
       "</style>\n",
       "<table border=\"1\" class=\"dataframe\">\n",
       "  <thead>\n",
       "    <tr style=\"text-align: right;\">\n",
       "      <th></th>\n",
       "      <th>DATE</th>\n",
       "      <th>STORE_NBR</th>\n",
       "      <th>LYLTY_CARD_NBR</th>\n",
       "      <th>TXN_ID</th>\n",
       "      <th>PROD_NBR</th>\n",
       "      <th>PROD_NAME</th>\n",
       "      <th>PROD_QTY</th>\n",
       "      <th>TOT_SALES</th>\n",
       "    </tr>\n",
       "  </thead>\n",
       "  <tbody>\n",
       "    <tr>\n",
       "      <th>0</th>\n",
       "      <td>2018-10-17</td>\n",
       "      <td>1</td>\n",
       "      <td>1000</td>\n",
       "      <td>1</td>\n",
       "      <td>5</td>\n",
       "      <td>Natural Chip        Compny SeaSalt175g</td>\n",
       "      <td>2</td>\n",
       "      <td>6.0</td>\n",
       "    </tr>\n",
       "    <tr>\n",
       "      <th>1</th>\n",
       "      <td>2019-05-14</td>\n",
       "      <td>1</td>\n",
       "      <td>1307</td>\n",
       "      <td>348</td>\n",
       "      <td>66</td>\n",
       "      <td>CCs Nacho Cheese    175g</td>\n",
       "      <td>3</td>\n",
       "      <td>6.3</td>\n",
       "    </tr>\n",
       "    <tr>\n",
       "      <th>2</th>\n",
       "      <td>2019-05-20</td>\n",
       "      <td>1</td>\n",
       "      <td>1343</td>\n",
       "      <td>383</td>\n",
       "      <td>61</td>\n",
       "      <td>Smiths Crinkle Cut  Chips Chicken 170g</td>\n",
       "      <td>2</td>\n",
       "      <td>2.9</td>\n",
       "    </tr>\n",
       "    <tr>\n",
       "      <th>3</th>\n",
       "      <td>2018-08-17</td>\n",
       "      <td>2</td>\n",
       "      <td>2373</td>\n",
       "      <td>974</td>\n",
       "      <td>69</td>\n",
       "      <td>Smiths Chip Thinly  S/Cream&amp;Onion 175g</td>\n",
       "      <td>5</td>\n",
       "      <td>15.0</td>\n",
       "    </tr>\n",
       "    <tr>\n",
       "      <th>4</th>\n",
       "      <td>2018-08-18</td>\n",
       "      <td>2</td>\n",
       "      <td>2426</td>\n",
       "      <td>1038</td>\n",
       "      <td>108</td>\n",
       "      <td>Kettle Tortilla ChpsHny&amp;Jlpno Chili 150g</td>\n",
       "      <td>3</td>\n",
       "      <td>13.8</td>\n",
       "    </tr>\n",
       "    <tr>\n",
       "      <th>...</th>\n",
       "      <td>...</td>\n",
       "      <td>...</td>\n",
       "      <td>...</td>\n",
       "      <td>...</td>\n",
       "      <td>...</td>\n",
       "      <td>...</td>\n",
       "      <td>...</td>\n",
       "      <td>...</td>\n",
       "    </tr>\n",
       "    <tr>\n",
       "      <th>264831</th>\n",
       "      <td>2019-03-09</td>\n",
       "      <td>272</td>\n",
       "      <td>272319</td>\n",
       "      <td>270088</td>\n",
       "      <td>89</td>\n",
       "      <td>Kettle Sweet Chilli And Sour Cream 175g</td>\n",
       "      <td>2</td>\n",
       "      <td>10.8</td>\n",
       "    </tr>\n",
       "    <tr>\n",
       "      <th>264832</th>\n",
       "      <td>2018-08-13</td>\n",
       "      <td>272</td>\n",
       "      <td>272358</td>\n",
       "      <td>270154</td>\n",
       "      <td>74</td>\n",
       "      <td>Tostitos Splash Of  Lime 175g</td>\n",
       "      <td>1</td>\n",
       "      <td>4.4</td>\n",
       "    </tr>\n",
       "    <tr>\n",
       "      <th>264833</th>\n",
       "      <td>2018-11-06</td>\n",
       "      <td>272</td>\n",
       "      <td>272379</td>\n",
       "      <td>270187</td>\n",
       "      <td>51</td>\n",
       "      <td>Doritos Mexicana    170g</td>\n",
       "      <td>2</td>\n",
       "      <td>8.8</td>\n",
       "    </tr>\n",
       "    <tr>\n",
       "      <th>264834</th>\n",
       "      <td>2018-12-27</td>\n",
       "      <td>272</td>\n",
       "      <td>272379</td>\n",
       "      <td>270188</td>\n",
       "      <td>42</td>\n",
       "      <td>Doritos Corn Chip Mexican Jalapeno 150g</td>\n",
       "      <td>2</td>\n",
       "      <td>7.8</td>\n",
       "    </tr>\n",
       "    <tr>\n",
       "      <th>264835</th>\n",
       "      <td>2018-09-22</td>\n",
       "      <td>272</td>\n",
       "      <td>272380</td>\n",
       "      <td>270189</td>\n",
       "      <td>74</td>\n",
       "      <td>Tostitos Splash Of  Lime 175g</td>\n",
       "      <td>2</td>\n",
       "      <td>8.8</td>\n",
       "    </tr>\n",
       "  </tbody>\n",
       "</table>\n",
       "<p>264836 rows × 8 columns</p>\n",
       "</div>"
      ],
      "text/plain": [
       "             DATE  STORE_NBR  LYLTY_CARD_NBR  TXN_ID  PROD_NBR  \\\n",
       "0      2018-10-17          1            1000       1         5   \n",
       "1      2019-05-14          1            1307     348        66   \n",
       "2      2019-05-20          1            1343     383        61   \n",
       "3      2018-08-17          2            2373     974        69   \n",
       "4      2018-08-18          2            2426    1038       108   \n",
       "...           ...        ...             ...     ...       ...   \n",
       "264831 2019-03-09        272          272319  270088        89   \n",
       "264832 2018-08-13        272          272358  270154        74   \n",
       "264833 2018-11-06        272          272379  270187        51   \n",
       "264834 2018-12-27        272          272379  270188        42   \n",
       "264835 2018-09-22        272          272380  270189        74   \n",
       "\n",
       "                                       PROD_NAME  PROD_QTY  TOT_SALES  \n",
       "0         Natural Chip        Compny SeaSalt175g         2        6.0  \n",
       "1                       CCs Nacho Cheese    175g         3        6.3  \n",
       "2         Smiths Crinkle Cut  Chips Chicken 170g         2        2.9  \n",
       "3         Smiths Chip Thinly  S/Cream&Onion 175g         5       15.0  \n",
       "4       Kettle Tortilla ChpsHny&Jlpno Chili 150g         3       13.8  \n",
       "...                                          ...       ...        ...  \n",
       "264831   Kettle Sweet Chilli And Sour Cream 175g         2       10.8  \n",
       "264832             Tostitos Splash Of  Lime 175g         1        4.4  \n",
       "264833                  Doritos Mexicana    170g         2        8.8  \n",
       "264834   Doritos Corn Chip Mexican Jalapeno 150g         2        7.8  \n",
       "264835             Tostitos Splash Of  Lime 175g         2        8.8  \n",
       "\n",
       "[264836 rows x 8 columns]"
      ]
     },
     "execution_count": 18,
     "metadata": {},
     "output_type": "execute_result"
    }
   ],
   "source": [
    "potato"
   ]
  },
  {
   "cell_type": "code",
   "execution_count": 19,
   "id": "00435bdc",
   "metadata": {},
   "outputs": [
    {
     "ename": "TypeError",
     "evalue": "bar() missing 1 required positional argument: 'height'",
     "output_type": "error",
     "traceback": [
      "\u001b[0;31m---------------------------------------------------------------------------\u001b[0m",
      "\u001b[0;31mTypeError\u001b[0m                                 Traceback (most recent call last)",
      "Input \u001b[0;32mIn [19]\u001b[0m, in \u001b[0;36m<cell line: 2>\u001b[0;34m()\u001b[0m\n\u001b[1;32m      1\u001b[0m plt\u001b[38;5;241m.\u001b[39mrcParams[\u001b[38;5;124m'\u001b[39m\u001b[38;5;124mfigure.figsize\u001b[39m\u001b[38;5;124m'\u001b[39m] \u001b[38;5;241m=\u001b[39m (\u001b[38;5;241m40\u001b[39m,\u001b[38;5;241m40\u001b[39m)\n\u001b[0;32m----> 2\u001b[0m \u001b[43mplt\u001b[49m\u001b[38;5;241;43m.\u001b[39;49m\u001b[43mbar\u001b[49m\u001b[43m(\u001b[49m\u001b[43mpotato\u001b[49m\u001b[43m[\u001b[49m\u001b[38;5;124;43m'\u001b[39;49m\u001b[38;5;124;43mDATE\u001b[39;49m\u001b[38;5;124;43m'\u001b[39;49m\u001b[43m]\u001b[49m\u001b[38;5;241;43m.\u001b[39;49m\u001b[43msort_values\u001b[49m\u001b[43m(\u001b[49m\u001b[43m)\u001b[49m\u001b[43m)\u001b[49m\n\u001b[1;32m      3\u001b[0m plt\u001b[38;5;241m.\u001b[39mshow()\n",
      "\u001b[0;31mTypeError\u001b[0m: bar() missing 1 required positional argument: 'height'"
     ]
    }
   ],
   "source": [
    "plt.rcParams['figure.figsize'] = (40,40)\n",
    "plt.bar(potato['DATE'].sort_values(),)\n",
    "plt.show()\n"
   ]
  },
  {
   "cell_type": "code",
   "execution_count": 20,
   "id": "b6664142",
   "metadata": {},
   "outputs": [],
   "source": [
    "potato.to_csv('potato.csv', index=False )"
   ]
  },
  {
   "cell_type": "markdown",
   "id": "45500544",
   "metadata": {},
   "source": [
    "# Examine, removing outlier"
   ]
  },
  {
   "cell_type": "code",
   "execution_count": null,
   "id": "76ead654",
   "metadata": {},
   "outputs": [],
   "source": [
    "merge"
   ]
  },
  {
   "cell_type": "code",
   "execution_count": null,
   "id": "b8f5e946",
   "metadata": {},
   "outputs": [],
   "source": [
    "merge['PROD_QTY'].unique()"
   ]
  },
  {
   "cell_type": "code",
   "execution_count": null,
   "id": "399170a5",
   "metadata": {
    "scrolled": true
   },
   "outputs": [],
   "source": [
    "merge.loc[merge['PROD_QTY']>100]"
   ]
  },
  {
   "cell_type": "code",
   "execution_count": null,
   "id": "b686a5fb",
   "metadata": {},
   "outputs": [],
   "source": [
    "merge = merge.drop([221625,221626])"
   ]
  },
  {
   "cell_type": "code",
   "execution_count": null,
   "id": "6f838cd0",
   "metadata": {
    "scrolled": false
   },
   "outputs": [],
   "source": [
    "merge['PROD_QTY'].plot()"
   ]
  },
  {
   "cell_type": "code",
   "execution_count": null,
   "id": "5fe9955d",
   "metadata": {
    "scrolled": false
   },
   "outputs": [],
   "source": [
    "merge['TOT_SALES'].plot()"
   ]
  },
  {
   "cell_type": "code",
   "execution_count": null,
   "id": "cc727c42",
   "metadata": {
    "scrolled": false
   },
   "outputs": [],
   "source": [
    "merge['TOT_SALES'].plot(kind = 'hist')"
   ]
  },
  {
   "cell_type": "markdown",
   "id": "7a75d592",
   "metadata": {},
   "source": [
    "> - There are outlier, need to detect and remove"
   ]
  },
  {
   "cell_type": "code",
   "execution_count": null,
   "id": "323a2caa",
   "metadata": {
    "scrolled": true
   },
   "outputs": [],
   "source": [
    "merge['TOT_SALES'].plot(kind = 'box')"
   ]
  },
  {
   "cell_type": "code",
   "execution_count": null,
   "id": "9a7a08db",
   "metadata": {},
   "outputs": [],
   "source": [
    "merge['TOT_SALES'].describe()"
   ]
  },
  {
   "cell_type": "code",
   "execution_count": null,
   "id": "a3aa56e2",
   "metadata": {},
   "outputs": [],
   "source": [
    "merge = merge.loc[~(merge['TOT_SALES']>(merge['TOT_SALES'].mean()+3*merge['TOT_SALES'].std()))]"
   ]
  },
  {
   "cell_type": "code",
   "execution_count": null,
   "id": "e397eee6",
   "metadata": {
    "scrolled": false
   },
   "outputs": [],
   "source": [
    "merge"
   ]
  },
  {
   "cell_type": "code",
   "execution_count": null,
   "id": "7f077e49",
   "metadata": {},
   "outputs": [],
   "source": [
    "merge['TOT_SALES'].plot(kind = 'box')"
   ]
  },
  {
   "cell_type": "code",
   "execution_count": null,
   "id": "4dec9715",
   "metadata": {
    "scrolled": true
   },
   "outputs": [],
   "source": [
    "a = merge.groupby('DATE').count().reset_index()['DATE'].reset_index()"
   ]
  },
  {
   "cell_type": "code",
   "execution_count": null,
   "id": "46865563",
   "metadata": {},
   "outputs": [],
   "source": [
    "a"
   ]
  },
  {
   "cell_type": "code",
   "execution_count": null,
   "id": "65df2dce",
   "metadata": {},
   "outputs": [],
   "source": [
    "pd.date_range(start=\"2018-07-01\",end=\"2019-06-30\").difference(a['DATE'])"
   ]
  },
  {
   "cell_type": "code",
   "execution_count": null,
   "id": "ab097496",
   "metadata": {},
   "outputs": [],
   "source": [
    "#ax = plt.plot(merge['DATE'], merge[''])"
   ]
  },
  {
   "cell_type": "code",
   "execution_count": null,
   "id": "b0040ce3",
   "metadata": {},
   "outputs": [],
   "source": [
    "b = merge.groupby('DATE').count()['PROD_QTY']"
   ]
  },
  {
   "cell_type": "code",
   "execution_count": null,
   "id": "1c61277c",
   "metadata": {},
   "outputs": [],
   "source": [
    "b = b.reset_index()\n",
    "b"
   ]
  },
  {
   "cell_type": "code",
   "execution_count": null,
   "id": "c4d2ab9c",
   "metadata": {
    "scrolled": true
   },
   "outputs": [],
   "source": [
    "plt.bar(b['DATE'],b['PROD_QTY'])\n",
    "plt.figure(figsize= (1000,1000))"
   ]
  },
  {
   "cell_type": "code",
   "execution_count": null,
   "id": "55bd8ab4",
   "metadata": {},
   "outputs": [],
   "source": [
    "b.loc[364] = [2018,0]\n",
    "b\n",
    "pd.to_datetime(2018/12/25)"
   ]
  },
  {
   "cell_type": "code",
   "execution_count": null,
   "id": "27537139",
   "metadata": {},
   "outputs": [],
   "source": [
    "merge['DATE']"
   ]
  },
  {
   "cell_type": "code",
   "execution_count": null,
   "id": "72d439be",
   "metadata": {},
   "outputs": [],
   "source": []
  },
  {
   "cell_type": "code",
   "execution_count": null,
   "id": "b2f5452b",
   "metadata": {},
   "outputs": [],
   "source": []
  },
  {
   "cell_type": "code",
   "execution_count": null,
   "id": "6990bf1a",
   "metadata": {},
   "outputs": [],
   "source": [
    "ProductWeight = merge['PROD_NAME'].str.extractall('(\\d+)')"
   ]
  },
  {
   "cell_type": "code",
   "execution_count": null,
   "id": "60e0bcfa",
   "metadata": {
    "scrolled": true
   },
   "outputs": [],
   "source": [
    "ProductWeight = ProductWeight.reset_index()"
   ]
  },
  {
   "cell_type": "code",
   "execution_count": null,
   "id": "cce48ad2",
   "metadata": {},
   "outputs": [],
   "source": [
    "merge = merge.reset_index()"
   ]
  },
  {
   "cell_type": "code",
   "execution_count": null,
   "id": "73a6239f",
   "metadata": {},
   "outputs": [],
   "source": [
    "ProductWeight = ProductWeight.rename(columns = {0: 'weight'})"
   ]
  },
  {
   "cell_type": "code",
   "execution_count": null,
   "id": "97f42fd1",
   "metadata": {},
   "outputs": [],
   "source": []
  },
  {
   "cell_type": "code",
   "execution_count": null,
   "id": "f1312ff1",
   "metadata": {},
   "outputs": [],
   "source": [
    "ProductWeight = ProductWeight['weight'].reset_index()"
   ]
  },
  {
   "cell_type": "code",
   "execution_count": null,
   "id": "21cce23a",
   "metadata": {},
   "outputs": [],
   "source": [
    "merge['weight'] = ProductWeight['weight']"
   ]
  },
  {
   "cell_type": "code",
   "execution_count": null,
   "id": "902fc4a4",
   "metadata": {},
   "outputs": [],
   "source": [
    "merge"
   ]
  },
  {
   "cell_type": "code",
   "execution_count": null,
   "id": "b4f125e7",
   "metadata": {},
   "outputs": [],
   "source": [
    "merge['weight'] = ProductWeight['weight']"
   ]
  },
  {
   "cell_type": "code",
   "execution_count": null,
   "id": "708942a3",
   "metadata": {},
   "outputs": [],
   "source": [
    "ProductWeight['weight']"
   ]
  },
  {
   "cell_type": "code",
   "execution_count": null,
   "id": "dae3bc9f",
   "metadata": {},
   "outputs": [],
   "source": [
    "merge"
   ]
  },
  {
   "cell_type": "code",
   "execution_count": null,
   "id": "42609f42",
   "metadata": {
    "scrolled": true
   },
   "outputs": [],
   "source": [
    "ProductWeight.drop(columns= ['level_0'], inplace= True)"
   ]
  },
  {
   "cell_type": "code",
   "execution_count": null,
   "id": "b069936f",
   "metadata": {},
   "outputs": [],
   "source": [
    "ProductWeight.drop(columns = ['match'], inplace= True)"
   ]
  },
  {
   "cell_type": "code",
   "execution_count": null,
   "id": "16fecb93",
   "metadata": {},
   "outputs": [],
   "source": [
    "merge['weight'] = ProductWeight"
   ]
  },
  {
   "cell_type": "code",
   "execution_count": null,
   "id": "55de3d36",
   "metadata": {},
   "outputs": [],
   "source": [
    "merge"
   ]
  },
  {
   "cell_type": "code",
   "execution_count": null,
   "id": "a978fc6b",
   "metadata": {},
   "outputs": [],
   "source": [
    "ProductWeight"
   ]
  },
  {
   "cell_type": "code",
   "execution_count": null,
   "id": "8c7675df",
   "metadata": {},
   "outputs": [],
   "source": [
    "merge\n"
   ]
  },
  {
   "cell_type": "code",
   "execution_count": null,
   "id": "63a1df26",
   "metadata": {},
   "outputs": [],
   "source": [
    "merge.drop(columns='level_0', inplace= True)"
   ]
  },
  {
   "cell_type": "code",
   "execution_count": null,
   "id": "5b08605e",
   "metadata": {},
   "outputs": [],
   "source": [
    "merge.drop(columns= 'index', inplace= True)"
   ]
  },
  {
   "cell_type": "code",
   "execution_count": null,
   "id": "8328afc6",
   "metadata": {},
   "outputs": [],
   "source": [
    "merge\n"
   ]
  },
  {
   "cell_type": "code",
   "execution_count": null,
   "id": "060a79db",
   "metadata": {},
   "outputs": [],
   "source": [
    "Question1 = merge.groupby('LIFESTAGE')['TOT_SALES'].sum().reset_index()"
   ]
  },
  {
   "cell_type": "markdown",
   "id": "7d0d3eed",
   "metadata": {},
   "source": [
    "Who spends the most on chips (total sales), describing customers by lifestage and\n",
    "how premium their general purchasing behaviour is"
   ]
  },
  {
   "cell_type": "code",
   "execution_count": null,
   "id": "267bb9b6",
   "metadata": {},
   "outputs": [],
   "source": [
    "Question1.sort_values(by = ['TOT_SALES'], ascending=False)"
   ]
  },
  {
   "cell_type": "code",
   "execution_count": null,
   "id": "f8fab18d",
   "metadata": {},
   "outputs": [],
   "source": [
    "merge.groupby('PREMIUM_CUSTOMER')[['TOT_SALES', 'PROD_QTY']].sum().sort_values(by = ['TOT_SALES'], \\\n",
    "                                                                               ascending= False)"
   ]
  },
  {
   "cell_type": "markdown",
   "id": "6359cc57",
   "metadata": {},
   "source": [
    "How many customers are in each segment"
   ]
  },
  {
   "cell_type": "code",
   "execution_count": null,
   "id": "69f6f7f6",
   "metadata": {},
   "outputs": [],
   "source": [
    "Q2 = merge.groupby('PREMIUM_CUSTOMER')[['TOT_SALES']].count().sort_values(by = ['TOT_SALES'], ascending= False)\\\n",
    ".rename(columns={'TOT_SALES': 'Number_of_customer'})\n",
    "Q2"
   ]
  },
  {
   "cell_type": "markdown",
   "id": "81280e1b",
   "metadata": {},
   "source": [
    "How many chips are bought per customer by segment"
   ]
  },
  {
   "cell_type": "code",
   "execution_count": null,
   "id": "602922c9",
   "metadata": {},
   "outputs": [],
   "source": [
    "merge.groupby('LYLTY_CARD_NBR').count().groupby('PREMIUM_CUSTOMER').count()"
   ]
  },
  {
   "cell_type": "code",
   "execution_count": null,
   "id": "9d93c359",
   "metadata": {},
   "outputs": [],
   "source": [
    "merge.groupby('PREMIUM_CUSTOMER').count()"
   ]
  },
  {
   "cell_type": "code",
   "execution_count": null,
   "id": "d0b68362",
   "metadata": {},
   "outputs": [],
   "source": [
    "merge[merge['PREMIUM_CUSTOMER'] == 'Budget'].groupby('LYLTY_CARD_NBR')['PROD_QTY'].count().sort_values()"
   ]
  },
  {
   "cell_type": "markdown",
   "id": "1e0a3912",
   "metadata": {},
   "source": [
    "What's the average chip price by customer segment"
   ]
  },
  {
   "cell_type": "code",
   "execution_count": null,
   "id": "c2f937c4",
   "metadata": {},
   "outputs": [],
   "source": [
    "?plt.plot"
   ]
  },
  {
   "cell_type": "code",
   "execution_count": null,
   "id": "52ab417e",
   "metadata": {},
   "outputs": [],
   "source": [
    "potato.groupby('PROD_NAME').count()"
   ]
  },
  {
   "cell_type": "code",
   "execution_count": null,
   "id": "79fde111",
   "metadata": {},
   "outputs": [],
   "source": [
    "#b.plot(kind = 'line', x= 'DATE')\n",
    "b.loc[len(b)]=[2018-12-25,0]\n",
    "b.plot(kind = 'line', x= 'DATE')\n",
    "b"
   ]
  },
  {
   "cell_type": "code",
   "execution_count": null,
   "id": "e86c6666",
   "metadata": {},
   "outputs": [],
   "source": [
    "import matplotlib.pyplot as plt\n",
    "import numpy as np\n",
    "\n",
    "xpoints = np.array([1, 2, 6, 8])\n",
    "ypoints = np.array([3, 8, 0, 10])\n",
    "\n",
    "plt.plot(xpoints, ypoints)\n",
    "plt.show()"
   ]
  },
  {
   "cell_type": "code",
   "execution_count": null,
   "id": "44b2187e",
   "metadata": {},
   "outputs": [],
   "source": []
  }
 ],
 "metadata": {
  "kernelspec": {
   "display_name": "Python 3 (ipykernel)",
   "language": "python",
   "name": "python3"
  },
  "language_info": {
   "codemirror_mode": {
    "name": "ipython",
    "version": 3
   },
   "file_extension": ".py",
   "mimetype": "text/x-python",
   "name": "python",
   "nbconvert_exporter": "python",
   "pygments_lexer": "ipython3",
   "version": "3.9.12"
  }
 },
 "nbformat": 4,
 "nbformat_minor": 5
}
