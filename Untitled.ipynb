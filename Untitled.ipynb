{
 "cells": [
  {
   "cell_type": "markdown",
   "id": "42f8c8be",
   "metadata": {},
   "source": [
    "## Project, Van Quan DONG\n"
   ]
  },
  {
   "cell_type": "code",
   "execution_count": 1,
   "id": "a0503c9a",
   "metadata": {},
   "outputs": [],
   "source": [
    "import pandas as pd\n",
    "import numpy as np\n",
    "import matplotlib.pyplot as plt\n",
    "%matplotlib inline"
   ]
  },
  {
   "cell_type": "markdown",
   "id": "01ea62da",
   "metadata": {},
   "source": [
    "# Import data "
   ]
  },
  {
   "cell_type": "code",
   "execution_count": 2,
   "id": "e77ea01d",
   "metadata": {},
   "outputs": [],
   "source": [
    "customer = pd.read_csv('QVI_purchase_behaviour1.csv')"
   ]
  },
  {
   "cell_type": "code",
   "execution_count": null,
   "id": "bc37837e",
   "metadata": {},
   "outputs": [],
   "source": [
    "potato = pd.read_excel('QVI_transaction_data1.xlsx')"
   ]
  },
  {
   "cell_type": "code",
   "execution_count": null,
   "id": "c068a2b3",
   "metadata": {
    "scrolled": true
   },
   "outputs": [],
   "source": [
    "customer\n"
   ]
  },
  {
   "cell_type": "code",
   "execution_count": null,
   "id": "c119b44e",
   "metadata": {
    "scrolled": false
   },
   "outputs": [],
   "source": [
    "potato"
   ]
  },
  {
   "cell_type": "markdown",
   "id": "b154bc89",
   "metadata": {},
   "source": [
    "# Data exploration\n"
   ]
  },
  {
   "cell_type": "code",
   "execution_count": null,
   "id": "090ce049",
   "metadata": {
    "scrolled": false
   },
   "outputs": [],
   "source": [
    "potato.describe()"
   ]
  },
  {
   "cell_type": "code",
   "execution_count": null,
   "id": "00ead519",
   "metadata": {
    "scrolled": true
   },
   "outputs": [],
   "source": [
    "potato.shape"
   ]
  },
  {
   "cell_type": "code",
   "execution_count": null,
   "id": "e23751af",
   "metadata": {
    "scrolled": true
   },
   "outputs": [],
   "source": [
    "potato.info()"
   ]
  },
  {
   "cell_type": "markdown",
   "id": "f6d464ee",
   "metadata": {},
   "source": [
    "> - note: Date should be transform to approriate format, \n",
    "\n"
   ]
  },
  {
   "cell_type": "markdown",
   "id": "a8ff7e9c",
   "metadata": {},
   "source": [
    "**There are mutual columns that link the customer data with the potato data**"
   ]
  },
  {
   "cell_type": "code",
   "execution_count": null,
   "id": "50a29d21",
   "metadata": {
    "scrolled": true
   },
   "outputs": [],
   "source": [
    "potato.set_index('LYLTY_CARD_NBR').join(customer.set_index('LYLTY_CARD_NBR'))"
   ]
  },
  {
   "cell_type": "code",
   "execution_count": null,
   "id": "721162b5",
   "metadata": {},
   "outputs": [],
   "source": [
    "merge = customer.set_index('LYLTY_CARD_NBR').join(potato.set_index('LYLTY_CARD_NBR'))"
   ]
  },
  {
   "cell_type": "code",
   "execution_count": null,
   "id": "0e6fbc03",
   "metadata": {
    "scrolled": false
   },
   "outputs": [],
   "source": [
    "merge.reset_index()"
   ]
  },
  {
   "cell_type": "markdown",
   "id": "7065796d",
   "metadata": {},
   "source": [
    "**Transform DATE columns in to approriate date**"
   ]
  },
  {
   "cell_type": "code",
   "execution_count": null,
   "id": "7b089fec",
   "metadata": {},
   "outputs": [],
   "source": [
    "merge['DATE'] = pd.to_datetime(merge['DATE'], origin = '1899-12-30',errors='coerce',unit='d' )\n"
   ]
  },
  {
   "cell_type": "code",
   "execution_count": null,
   "id": "055cb68d",
   "metadata": {
    "scrolled": false
   },
   "outputs": [],
   "source": [
    "merge.sort_values(by = ['DATE'])"
   ]
  },
  {
   "cell_type": "code",
   "execution_count": null,
   "id": "c23bba3a",
   "metadata": {},
   "outputs": [],
   "source": [
    "merge = merge.reset_index()"
   ]
  },
  {
   "cell_type": "code",
   "execution_count": null,
   "id": "c14c126b",
   "metadata": {},
   "outputs": [],
   "source": [
    "merge.isna().sum()"
   ]
  },
  {
   "cell_type": "code",
   "execution_count": null,
   "id": "bee7d9d7",
   "metadata": {
    "scrolled": true
   },
   "outputs": [],
   "source": [
    "merge.groupby(merge['PREMIUM_CUSTOMER']).count()['PROD_QTY'].reset_index(name = 'count')"
   ]
  },
  {
   "cell_type": "markdown",
   "id": "ca35dc40",
   "metadata": {},
   "source": [
    "# Examine, removing outlier"
   ]
  },
  {
   "cell_type": "code",
   "execution_count": null,
   "id": "117bbe00",
   "metadata": {},
   "outputs": [],
   "source": [
    "merge"
   ]
  },
  {
   "cell_type": "code",
   "execution_count": null,
   "id": "9e47ef8b",
   "metadata": {},
   "outputs": [],
   "source": [
    "merge['PROD_QTY'].unique()"
   ]
  },
  {
   "cell_type": "code",
   "execution_count": null,
   "id": "399170a5",
   "metadata": {
    "scrolled": false
   },
   "outputs": [],
   "source": [
    "merge.loc[merge['PROD_QTY']>100]"
   ]
  },
  {
   "cell_type": "code",
   "execution_count": null,
   "id": "609c505c",
   "metadata": {},
   "outputs": [],
   "source": [
    "merge = merge.drop([221625,221626])"
   ]
  },
  {
   "cell_type": "code",
   "execution_count": null,
   "id": "c65974c5",
   "metadata": {
    "scrolled": true
   },
   "outputs": [],
   "source": [
    "merge['PROD_QTY'].plot(kind = 'bar')"
   ]
  },
  {
   "cell_type": "code",
   "execution_count": null,
   "id": "5fe9955d",
   "metadata": {
    "scrolled": true
   },
   "outputs": [],
   "source": [
    "merge['TOT_SALES'].plot()"
   ]
  },
  {
   "cell_type": "code",
   "execution_count": null,
   "id": "ef3c2618",
   "metadata": {
    "scrolled": false
   },
   "outputs": [],
   "source": [
    "merge['TOT_SALES'].plot(kind = 'hist')"
   ]
  },
  {
   "cell_type": "markdown",
   "id": "62071bea",
   "metadata": {},
   "source": [
    "> - There are outlier, need to detect and remove"
   ]
  },
  {
   "cell_type": "code",
   "execution_count": null,
   "id": "3f4dce69",
   "metadata": {
    "scrolled": true
   },
   "outputs": [],
   "source": [
    "merge['TOT_SALES'].plot(kind = 'box')"
   ]
  },
  {
   "cell_type": "code",
   "execution_count": null,
   "id": "b04fa91b",
   "metadata": {},
   "outputs": [],
   "source": [
    "merge['TOT_SALES'].describe()"
   ]
  },
  {
   "cell_type": "code",
   "execution_count": null,
   "id": "d410fc34",
   "metadata": {},
   "outputs": [],
   "source": [
    "merge = merge.loc[~(merge['TOT_SALES']>(merge['TOT_SALES'].mean()+3*merge['TOT_SALES'].std()))]"
   ]
  },
  {
   "cell_type": "code",
   "execution_count": null,
   "id": "1270a623",
   "metadata": {
    "scrolled": true
   },
   "outputs": [],
   "source": [
    "merge"
   ]
  },
  {
   "cell_type": "code",
   "execution_count": null,
   "id": "c0f0bdf5",
   "metadata": {},
   "outputs": [],
   "source": [
    "merge.groupby('DATE').count()"
   ]
  },
  {
   "cell_type": "code",
   "execution_count": null,
   "id": "fe5b4b11",
   "metadata": {},
   "outputs": [],
   "source": [
    "merge"
   ]
  },
  {
   "cell_type": "code",
   "execution_count": null,
   "id": "7783851e",
   "metadata": {},
   "outputs": [],
   "source": [
    "import seaborn as sns"
   ]
  },
  {
   "cell_type": "code",
   "execution_count": null,
   "id": "f2b557bf",
   "metadata": {},
   "outputs": [],
   "source": []
  },
  {
   "cell_type": "code",
   "execution_count": null,
   "id": "d0acf43c",
   "metadata": {},
   "outputs": [],
   "source": []
  }
 ],
 "metadata": {
  "kernelspec": {
   "display_name": "Python 3 (ipykernel)",
   "language": "python",
   "name": "python3"
  },
  "language_info": {
   "codemirror_mode": {
    "name": "ipython",
    "version": 3
   },
   "file_extension": ".py",
   "mimetype": "text/x-python",
   "name": "python",
   "nbconvert_exporter": "python",
   "pygments_lexer": "ipython3",
   "version": "3.9.12"
  }
 },
 "nbformat": 4,
 "nbformat_minor": 5
}
